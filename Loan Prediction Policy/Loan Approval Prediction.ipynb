{
  "nbformat": 4,
  "nbformat_minor": 0,
  "metadata": {
    "kernelspec": {
      "display_name": "Python 3",
      "language": "python",
      "name": "python3"
    },
    "language_info": {
      "codemirror_mode": {
        "name": "ipython",
        "version": 3
      },
      "file_extension": ".py",
      "mimetype": "text/x-python",
      "name": "python",
      "nbconvert_exporter": "python",
      "pygments_lexer": "ipython3",
      "version": "3.8.5"
    },
    "colab": {
      "name": "Loan Approval Prediction.ipynb",
      "provenance": [],
      "collapsed_sections": []
    }
  },
  "cells": [
    {
      "cell_type": "code",
      "metadata": {
        "colab": {
          "base_uri": "https://localhost:8080/"
        },
        "id": "3IckA-RQI2r8",
        "outputId": "a543ac9b-9803-4969-c55c-9b94e1655a17"
      },
      "source": [
        "from google.colab import drive\r\n",
        "drive.mount('/content/mydrive')"
      ],
      "execution_count": 2,
      "outputs": [
        {
          "output_type": "stream",
          "text": [
            "Drive already mounted at /content/mydrive; to attempt to forcibly remount, call drive.mount(\"/content/mydrive\", force_remount=True).\n"
          ],
          "name": "stdout"
        }
      ]
    },
    {
      "cell_type": "markdown",
      "metadata": {
        "id": "pkXS8vjnIxfw"
      },
      "source": [
        "## Problem Statement: "
      ]
    },
    {
      "cell_type": "markdown",
      "metadata": {
        "id": "E2TntY6lIxf3"
      },
      "source": [
        "**About Company:**\n",
        "\n",
        "Dream Housing Finance company deals in all home loans. They have presence across all urban, semi urban and rural areas. Customer first apply for home loan after that company validates the customer eligibility for loan."
      ]
    },
    {
      "cell_type": "markdown",
      "metadata": {
        "id": "VEUsFirMIxf3"
      },
      "source": [
        "**Problem**\n",
        "\n",
        "Company wants to automate the loan eligibility process (real time) based on customer detail provided while filling online application form. These details are Gender, Marital Status, Education, Number of Dependents, Income, Loan Amount, Credit History and others. To automate this process, they have given a problem to identify the customers segments, those are eligible for loan amount so that they can specifically target these customers. Here they have provided a partial data set."
      ]
    },
    {
      "cell_type": "markdown",
      "metadata": {
        "id": "dh2eEfdNIxf4"
      },
      "source": [
        "**Dataset Description:**\r\n",
        "\r\n",
        "![Capture.PNG](data:image/png;base64,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)"
      ]
    },
    {
      "cell_type": "markdown",
      "metadata": {
        "id": "FDq4NuPnIxf4"
      },
      "source": [
        "## Train Data "
      ]
    },
    {
      "cell_type": "code",
      "metadata": {
        "id": "NzsXvUbKIxf4"
      },
      "source": [
        "import pandas as pd\n",
        "import numpy as np\n",
        "import matplotlib.pyplot as plt\n",
        "import seaborn as sns\n",
        "%matplotlib inline"
      ],
      "execution_count": 3,
      "outputs": []
    },
    {
      "cell_type": "code",
      "metadata": {
        "colab": {
          "base_uri": "https://localhost:8080/",
          "height": 241
        },
        "id": "tO7_dayJIxf5",
        "outputId": "34e0d322-9845-43c0-99bb-05ba7c288de8"
      },
      "source": [
        "df=pd.read_csv('/content/mydrive/MyDrive/Colab Notebooks/Loan Prediction/Loan Prediction Dataset/train.csv')\n",
        "df.head()"
      ],
      "execution_count": 4,
      "outputs": [
        {
          "output_type": "execute_result",
          "data": {
            "text/html": [
              "<div>\n",
              "<style scoped>\n",
              "    .dataframe tbody tr th:only-of-type {\n",
              "        vertical-align: middle;\n",
              "    }\n",
              "\n",
              "    .dataframe tbody tr th {\n",
              "        vertical-align: top;\n",
              "    }\n",
              "\n",
              "    .dataframe thead th {\n",
              "        text-align: right;\n",
              "    }\n",
              "</style>\n",
              "<table border=\"1\" class=\"dataframe\">\n",
              "  <thead>\n",
              "    <tr style=\"text-align: right;\">\n",
              "      <th></th>\n",
              "      <th>Loan_ID</th>\n",
              "      <th>Gender</th>\n",
              "      <th>Married</th>\n",
              "      <th>Dependents</th>\n",
              "      <th>Education</th>\n",
              "      <th>Self_Employed</th>\n",
              "      <th>ApplicantIncome</th>\n",
              "      <th>CoapplicantIncome</th>\n",
              "      <th>LoanAmount</th>\n",
              "      <th>Loan_Amount_Term</th>\n",
              "      <th>Credit_History</th>\n",
              "      <th>Property_Area</th>\n",
              "      <th>Loan_Status</th>\n",
              "    </tr>\n",
              "  </thead>\n",
              "  <tbody>\n",
              "    <tr>\n",
              "      <th>0</th>\n",
              "      <td>LP001002</td>\n",
              "      <td>Male</td>\n",
              "      <td>No</td>\n",
              "      <td>0</td>\n",
              "      <td>Graduate</td>\n",
              "      <td>No</td>\n",
              "      <td>5849</td>\n",
              "      <td>0.0</td>\n",
              "      <td>NaN</td>\n",
              "      <td>360.0</td>\n",
              "      <td>1.0</td>\n",
              "      <td>Urban</td>\n",
              "      <td>Y</td>\n",
              "    </tr>\n",
              "    <tr>\n",
              "      <th>1</th>\n",
              "      <td>LP001003</td>\n",
              "      <td>Male</td>\n",
              "      <td>Yes</td>\n",
              "      <td>1</td>\n",
              "      <td>Graduate</td>\n",
              "      <td>No</td>\n",
              "      <td>4583</td>\n",
              "      <td>1508.0</td>\n",
              "      <td>128.0</td>\n",
              "      <td>360.0</td>\n",
              "      <td>1.0</td>\n",
              "      <td>Rural</td>\n",
              "      <td>N</td>\n",
              "    </tr>\n",
              "    <tr>\n",
              "      <th>2</th>\n",
              "      <td>LP001005</td>\n",
              "      <td>Male</td>\n",
              "      <td>Yes</td>\n",
              "      <td>0</td>\n",
              "      <td>Graduate</td>\n",
              "      <td>Yes</td>\n",
              "      <td>3000</td>\n",
              "      <td>0.0</td>\n",
              "      <td>66.0</td>\n",
              "      <td>360.0</td>\n",
              "      <td>1.0</td>\n",
              "      <td>Urban</td>\n",
              "      <td>Y</td>\n",
              "    </tr>\n",
              "    <tr>\n",
              "      <th>3</th>\n",
              "      <td>LP001006</td>\n",
              "      <td>Male</td>\n",
              "      <td>Yes</td>\n",
              "      <td>0</td>\n",
              "      <td>Not Graduate</td>\n",
              "      <td>No</td>\n",
              "      <td>2583</td>\n",
              "      <td>2358.0</td>\n",
              "      <td>120.0</td>\n",
              "      <td>360.0</td>\n",
              "      <td>1.0</td>\n",
              "      <td>Urban</td>\n",
              "      <td>Y</td>\n",
              "    </tr>\n",
              "    <tr>\n",
              "      <th>4</th>\n",
              "      <td>LP001008</td>\n",
              "      <td>Male</td>\n",
              "      <td>No</td>\n",
              "      <td>0</td>\n",
              "      <td>Graduate</td>\n",
              "      <td>No</td>\n",
              "      <td>6000</td>\n",
              "      <td>0.0</td>\n",
              "      <td>141.0</td>\n",
              "      <td>360.0</td>\n",
              "      <td>1.0</td>\n",
              "      <td>Urban</td>\n",
              "      <td>Y</td>\n",
              "    </tr>\n",
              "  </tbody>\n",
              "</table>\n",
              "</div>"
            ],
            "text/plain": [
              "    Loan_ID Gender Married  ... Credit_History Property_Area Loan_Status\n",
              "0  LP001002   Male      No  ...            1.0         Urban           Y\n",
              "1  LP001003   Male     Yes  ...            1.0         Rural           N\n",
              "2  LP001005   Male     Yes  ...            1.0         Urban           Y\n",
              "3  LP001006   Male     Yes  ...            1.0         Urban           Y\n",
              "4  LP001008   Male      No  ...            1.0         Urban           Y\n",
              "\n",
              "[5 rows x 13 columns]"
            ]
          },
          "metadata": {
            "tags": []
          },
          "execution_count": 4
        }
      ]
    },
    {
      "cell_type": "code",
      "metadata": {
        "colab": {
          "base_uri": "https://localhost:8080/"
        },
        "id": "Lq6MXyvyIxf5",
        "outputId": "2fdc9592-458f-412a-81d0-a923cd6902b6"
      },
      "source": [
        "df.drop('Loan_ID',axis=1,inplace=True)\n",
        "df.info()"
      ],
      "execution_count": 5,
      "outputs": [
        {
          "output_type": "stream",
          "text": [
            "<class 'pandas.core.frame.DataFrame'>\n",
            "RangeIndex: 614 entries, 0 to 613\n",
            "Data columns (total 12 columns):\n",
            " #   Column             Non-Null Count  Dtype  \n",
            "---  ------             --------------  -----  \n",
            " 0   Gender             601 non-null    object \n",
            " 1   Married            611 non-null    object \n",
            " 2   Dependents         599 non-null    object \n",
            " 3   Education          614 non-null    object \n",
            " 4   Self_Employed      582 non-null    object \n",
            " 5   ApplicantIncome    614 non-null    int64  \n",
            " 6   CoapplicantIncome  614 non-null    float64\n",
            " 7   LoanAmount         592 non-null    float64\n",
            " 8   Loan_Amount_Term   600 non-null    float64\n",
            " 9   Credit_History     564 non-null    float64\n",
            " 10  Property_Area      614 non-null    object \n",
            " 11  Loan_Status        614 non-null    object \n",
            "dtypes: float64(4), int64(1), object(7)\n",
            "memory usage: 57.7+ KB\n"
          ],
          "name": "stdout"
        }
      ]
    },
    {
      "cell_type": "code",
      "metadata": {
        "colab": {
          "base_uri": "https://localhost:8080/",
          "height": 297
        },
        "id": "grFo0ntxIxf6",
        "outputId": "c8eaedbc-80cf-4c21-8081-e26ab6fb3bdd"
      },
      "source": [
        "df.describe(include=['int64','float64'])"
      ],
      "execution_count": 6,
      "outputs": [
        {
          "output_type": "execute_result",
          "data": {
            "text/html": [
              "<div>\n",
              "<style scoped>\n",
              "    .dataframe tbody tr th:only-of-type {\n",
              "        vertical-align: middle;\n",
              "    }\n",
              "\n",
              "    .dataframe tbody tr th {\n",
              "        vertical-align: top;\n",
              "    }\n",
              "\n",
              "    .dataframe thead th {\n",
              "        text-align: right;\n",
              "    }\n",
              "</style>\n",
              "<table border=\"1\" class=\"dataframe\">\n",
              "  <thead>\n",
              "    <tr style=\"text-align: right;\">\n",
              "      <th></th>\n",
              "      <th>ApplicantIncome</th>\n",
              "      <th>CoapplicantIncome</th>\n",
              "      <th>LoanAmount</th>\n",
              "      <th>Loan_Amount_Term</th>\n",
              "      <th>Credit_History</th>\n",
              "    </tr>\n",
              "  </thead>\n",
              "  <tbody>\n",
              "    <tr>\n",
              "      <th>count</th>\n",
              "      <td>614.000000</td>\n",
              "      <td>614.000000</td>\n",
              "      <td>592.000000</td>\n",
              "      <td>600.00000</td>\n",
              "      <td>564.000000</td>\n",
              "    </tr>\n",
              "    <tr>\n",
              "      <th>mean</th>\n",
              "      <td>5403.459283</td>\n",
              "      <td>1621.245798</td>\n",
              "      <td>146.412162</td>\n",
              "      <td>342.00000</td>\n",
              "      <td>0.842199</td>\n",
              "    </tr>\n",
              "    <tr>\n",
              "      <th>std</th>\n",
              "      <td>6109.041673</td>\n",
              "      <td>2926.248369</td>\n",
              "      <td>85.587325</td>\n",
              "      <td>65.12041</td>\n",
              "      <td>0.364878</td>\n",
              "    </tr>\n",
              "    <tr>\n",
              "      <th>min</th>\n",
              "      <td>150.000000</td>\n",
              "      <td>0.000000</td>\n",
              "      <td>9.000000</td>\n",
              "      <td>12.00000</td>\n",
              "      <td>0.000000</td>\n",
              "    </tr>\n",
              "    <tr>\n",
              "      <th>25%</th>\n",
              "      <td>2877.500000</td>\n",
              "      <td>0.000000</td>\n",
              "      <td>100.000000</td>\n",
              "      <td>360.00000</td>\n",
              "      <td>1.000000</td>\n",
              "    </tr>\n",
              "    <tr>\n",
              "      <th>50%</th>\n",
              "      <td>3812.500000</td>\n",
              "      <td>1188.500000</td>\n",
              "      <td>128.000000</td>\n",
              "      <td>360.00000</td>\n",
              "      <td>1.000000</td>\n",
              "    </tr>\n",
              "    <tr>\n",
              "      <th>75%</th>\n",
              "      <td>5795.000000</td>\n",
              "      <td>2297.250000</td>\n",
              "      <td>168.000000</td>\n",
              "      <td>360.00000</td>\n",
              "      <td>1.000000</td>\n",
              "    </tr>\n",
              "    <tr>\n",
              "      <th>max</th>\n",
              "      <td>81000.000000</td>\n",
              "      <td>41667.000000</td>\n",
              "      <td>700.000000</td>\n",
              "      <td>480.00000</td>\n",
              "      <td>1.000000</td>\n",
              "    </tr>\n",
              "  </tbody>\n",
              "</table>\n",
              "</div>"
            ],
            "text/plain": [
              "       ApplicantIncome  CoapplicantIncome  ...  Loan_Amount_Term  Credit_History\n",
              "count       614.000000         614.000000  ...         600.00000      564.000000\n",
              "mean       5403.459283        1621.245798  ...         342.00000        0.842199\n",
              "std        6109.041673        2926.248369  ...          65.12041        0.364878\n",
              "min         150.000000           0.000000  ...          12.00000        0.000000\n",
              "25%        2877.500000           0.000000  ...         360.00000        1.000000\n",
              "50%        3812.500000        1188.500000  ...         360.00000        1.000000\n",
              "75%        5795.000000        2297.250000  ...         360.00000        1.000000\n",
              "max       81000.000000       41667.000000  ...         480.00000        1.000000\n",
              "\n",
              "[8 rows x 5 columns]"
            ]
          },
          "metadata": {
            "tags": []
          },
          "execution_count": 6
        }
      ]
    },
    {
      "cell_type": "code",
      "metadata": {
        "colab": {
          "base_uri": "https://localhost:8080/",
          "height": 173
        },
        "id": "pgfNrIRuIxf6",
        "outputId": "1a881f1e-81ba-4378-b7ed-55848921def6"
      },
      "source": [
        "df.describe(include='object')"
      ],
      "execution_count": 7,
      "outputs": [
        {
          "output_type": "execute_result",
          "data": {
            "text/html": [
              "<div>\n",
              "<style scoped>\n",
              "    .dataframe tbody tr th:only-of-type {\n",
              "        vertical-align: middle;\n",
              "    }\n",
              "\n",
              "    .dataframe tbody tr th {\n",
              "        vertical-align: top;\n",
              "    }\n",
              "\n",
              "    .dataframe thead th {\n",
              "        text-align: right;\n",
              "    }\n",
              "</style>\n",
              "<table border=\"1\" class=\"dataframe\">\n",
              "  <thead>\n",
              "    <tr style=\"text-align: right;\">\n",
              "      <th></th>\n",
              "      <th>Gender</th>\n",
              "      <th>Married</th>\n",
              "      <th>Dependents</th>\n",
              "      <th>Education</th>\n",
              "      <th>Self_Employed</th>\n",
              "      <th>Property_Area</th>\n",
              "      <th>Loan_Status</th>\n",
              "    </tr>\n",
              "  </thead>\n",
              "  <tbody>\n",
              "    <tr>\n",
              "      <th>count</th>\n",
              "      <td>601</td>\n",
              "      <td>611</td>\n",
              "      <td>599</td>\n",
              "      <td>614</td>\n",
              "      <td>582</td>\n",
              "      <td>614</td>\n",
              "      <td>614</td>\n",
              "    </tr>\n",
              "    <tr>\n",
              "      <th>unique</th>\n",
              "      <td>2</td>\n",
              "      <td>2</td>\n",
              "      <td>4</td>\n",
              "      <td>2</td>\n",
              "      <td>2</td>\n",
              "      <td>3</td>\n",
              "      <td>2</td>\n",
              "    </tr>\n",
              "    <tr>\n",
              "      <th>top</th>\n",
              "      <td>Male</td>\n",
              "      <td>Yes</td>\n",
              "      <td>0</td>\n",
              "      <td>Graduate</td>\n",
              "      <td>No</td>\n",
              "      <td>Semiurban</td>\n",
              "      <td>Y</td>\n",
              "    </tr>\n",
              "    <tr>\n",
              "      <th>freq</th>\n",
              "      <td>489</td>\n",
              "      <td>398</td>\n",
              "      <td>345</td>\n",
              "      <td>480</td>\n",
              "      <td>500</td>\n",
              "      <td>233</td>\n",
              "      <td>422</td>\n",
              "    </tr>\n",
              "  </tbody>\n",
              "</table>\n",
              "</div>"
            ],
            "text/plain": [
              "       Gender Married Dependents  ... Self_Employed Property_Area Loan_Status\n",
              "count     601     611        599  ...           582           614         614\n",
              "unique      2       2          4  ...             2             3           2\n",
              "top      Male     Yes          0  ...            No     Semiurban           Y\n",
              "freq      489     398        345  ...           500           233         422\n",
              "\n",
              "[4 rows x 7 columns]"
            ]
          },
          "metadata": {
            "tags": []
          },
          "execution_count": 7
        }
      ]
    },
    {
      "cell_type": "code",
      "metadata": {
        "colab": {
          "base_uri": "https://localhost:8080/"
        },
        "id": "2hvQgmRDIxf6",
        "outputId": "58c8a66e-eb6f-4e89-f685-b90ee60bf745"
      },
      "source": [
        "missing_column=[feature for feature in df.columns if df[feature].isnull().sum()>1]\n",
        "\n",
        "for feature in missing_column:\n",
        "    print(feature, np.round((df[feature].isnull().sum())/len(df)*100),'% Missing Value')"
      ],
      "execution_count": 8,
      "outputs": [
        {
          "output_type": "stream",
          "text": [
            "Gender 2.0 % Missing Value\n",
            "Married 0.0 % Missing Value\n",
            "Dependents 2.0 % Missing Value\n",
            "Self_Employed 5.0 % Missing Value\n",
            "LoanAmount 4.0 % Missing Value\n",
            "Loan_Amount_Term 2.0 % Missing Value\n",
            "Credit_History 8.0 % Missing Value\n"
          ],
          "name": "stdout"
        }
      ]
    },
    {
      "cell_type": "code",
      "metadata": {
        "colab": {
          "base_uri": "https://localhost:8080/"
        },
        "id": "gStrtQTaIxf7",
        "outputId": "96128ac1-4f14-4473-f3a3-027045b9ba4c"
      },
      "source": [
        "df.Loan_Status.value_counts()"
      ],
      "execution_count": 9,
      "outputs": [
        {
          "output_type": "execute_result",
          "data": {
            "text/plain": [
              "Y    422\n",
              "N    192\n",
              "Name: Loan_Status, dtype: int64"
            ]
          },
          "metadata": {
            "tags": []
          },
          "execution_count": 9
        }
      ]
    },
    {
      "cell_type": "code",
      "metadata": {
        "colab": {
          "base_uri": "https://localhost:8080/"
        },
        "id": "Gz8OeIhPIxf7",
        "outputId": "d83b1e65-fa37-4a1b-af8f-2ed7cbe4245f"
      },
      "source": [
        "obj_cols= [*df.select_dtypes('object').columns]\n",
        "\n",
        "# as Loan_Status is a target variable\n",
        "obj_cols.remove('Loan_Status')\n",
        "\n",
        "obj_cols"
      ],
      "execution_count": 10,
      "outputs": [
        {
          "output_type": "execute_result",
          "data": {
            "text/plain": [
              "['Gender',\n",
              " 'Married',\n",
              " 'Dependents',\n",
              " 'Education',\n",
              " 'Self_Employed',\n",
              " 'Property_Area']"
            ]
          },
          "metadata": {
            "tags": []
          },
          "execution_count": 10
        }
      ]
    },
    {
      "cell_type": "code",
      "metadata": {
        "colab": {
          "base_uri": "https://localhost:8080/",
          "height": 847
        },
        "id": "Zll0wm63Ixf8",
        "outputId": "9db9bc0f-0ca1-4f93-9dc5-d143e9b23f15"
      },
      "source": [
        "plt.figure(figsize=(24,18))\n",
        "\n",
        "for idx, cols in enumerate(obj_cols):\n",
        "    \n",
        "    plt.subplot(3, 3, idx+1)\n",
        "    \n",
        "    sns.countplot(cols, data=df, hue='Loan_Status')"
      ],
      "execution_count": 11,
      "outputs": [
        {
          "output_type": "stream",
          "text": [
            "/usr/local/lib/python3.7/dist-packages/seaborn/_decorators.py:43: FutureWarning: Pass the following variable as a keyword arg: x. From version 0.12, the only valid positional argument will be `data`, and passing other arguments without an explicit keyword will result in an error or misinterpretation.\n",
            "  FutureWarning\n",
            "/usr/local/lib/python3.7/dist-packages/seaborn/_decorators.py:43: FutureWarning: Pass the following variable as a keyword arg: x. From version 0.12, the only valid positional argument will be `data`, and passing other arguments without an explicit keyword will result in an error or misinterpretation.\n",
            "  FutureWarning\n",
            "/usr/local/lib/python3.7/dist-packages/seaborn/_decorators.py:43: FutureWarning: Pass the following variable as a keyword arg: x. From version 0.12, the only valid positional argument will be `data`, and passing other arguments without an explicit keyword will result in an error or misinterpretation.\n",
            "  FutureWarning\n",
            "/usr/local/lib/python3.7/dist-packages/seaborn/_decorators.py:43: FutureWarning: Pass the following variable as a keyword arg: x. From version 0.12, the only valid positional argument will be `data`, and passing other arguments without an explicit keyword will result in an error or misinterpretation.\n",
            "  FutureWarning\n",
            "/usr/local/lib/python3.7/dist-packages/seaborn/_decorators.py:43: FutureWarning: Pass the following variable as a keyword arg: x. From version 0.12, the only valid positional argument will be `data`, and passing other arguments without an explicit keyword will result in an error or misinterpretation.\n",
            "  FutureWarning\n",
            "/usr/local/lib/python3.7/dist-packages/seaborn/_decorators.py:43: FutureWarning: Pass the following variable as a keyword arg: x. From version 0.12, the only valid positional argument will be `data`, and passing other arguments without an explicit keyword will result in an error or misinterpretation.\n",
            "  FutureWarning\n"
          ],
          "name": "stderr"
        },
        {
          "output_type": "display_data",
          "data": {
            "image/png": "[encoded data removed]",
            "text/plain": [
              "<Figure size 1728x1296 with 6 Axes>"
            ]
          },
          "metadata": {
            "tags": [],
            "needs_background": "light"
          }
        }
      ]
    },
    {
      "cell_type": "markdown",
      "metadata": {
        "id": "PbnZP9lHIxf8"
      },
      "source": [
        "**Plots above convey following things about the dataset:**\n",
        "\n",
        "1. Loan Approval Status: About 2/3rd of applicants have been granted loan.\n",
        "2. Sex: There are more Men than Women (approx. 3x)\n",
        "3. Martial Status: 2/3rd of the population in the dataset is Marred; Married applicants are more likely to be granted loans.\n",
        "4. Dependents: Majority of the population have zero dependents and are also likely to accepted for loan.\n",
        "5. Education: About 5/6th of the population is Graduate and graduates have higher propotion of loan approval\n",
        "6. Employment: 5/6th of population is not self employed.\n",
        "7. Property Area: More applicants from Semi-urban and also likely to be granted loans.\n",
        "8. Applicant with credit history are far more likely to be accepted.\n",
        "9. Loan Amount Term: Majority of the loans taken are for 360 Months (30 years)."
      ]
    },
    {
      "cell_type": "code",
      "metadata": {
        "colab": {
          "base_uri": "https://localhost:8080/"
        },
        "id": "-9F4ikW-Ixf8",
        "outputId": "6fc9876e-b9bc-4aff-df66-81da15af04c9"
      },
      "source": [
        "num_cols= [*df.select_dtypes(['Int64', 'Float64']).columns]\n",
        "num_cols.remove('Loan_Amount_Term')\n",
        "num_cols.remove('Credit_History')\n",
        "num_cols"
      ],
      "execution_count": 12,
      "outputs": [
        {
          "output_type": "execute_result",
          "data": {
            "text/plain": [
              "['ApplicantIncome', 'CoapplicantIncome', 'LoanAmount']"
            ]
          },
          "metadata": {
            "tags": []
          },
          "execution_count": 12
        }
      ]
    },
    {
      "cell_type": "code",
      "metadata": {
        "colab": {
          "base_uri": "https://localhost:8080/",
          "height": 1000
        },
        "id": "SIAabV8DIxf9",
        "outputId": "d2beec10-ee81-4bf5-cdbd-84ccf98d258a"
      },
      "source": [
        "plt.figure(figsize=(24, 18))\n",
        "count = 1\n",
        "\n",
        "for cols in num_cols:\n",
        "    \n",
        "    plt.subplot(3, 2, count)\n",
        "    sns.boxenplot(x='Loan_Status', y= cols, data= df)   \n",
        "    count +=1\n",
        "    \n",
        "    plt.subplot(3, 2, count)    \n",
        "    sns.distplot(df.loc[df[cols].notna(), cols])    \n",
        "    count+=1"
      ],
      "execution_count": 13,
      "outputs": [
        {
          "output_type": "stream",
          "text": [
            "/usr/local/lib/python3.7/dist-packages/seaborn/distributions.py:2557: FutureWarning: `distplot` is a deprecated function and will be removed in a future version. Please adapt your code to use either `displot` (a figure-level function with similar flexibility) or `histplot` (an axes-level function for histograms).\n",
            "  warnings.warn(msg, FutureWarning)\n",
            "/usr/local/lib/python3.7/dist-packages/seaborn/distributions.py:2557: FutureWarning: `distplot` is a deprecated function and will be removed in a future version. Please adapt your code to use either `displot` (a figure-level function with similar flexibility) or `histplot` (an axes-level function for histograms).\n",
            "  warnings.warn(msg, FutureWarning)\n",
            "/usr/local/lib/python3.7/dist-packages/seaborn/distributions.py:2557: FutureWarning: `distplot` is a deprecated function and will be removed in a future version. Please adapt your code to use either `displot` (a figure-level function with similar flexibility) or `histplot` (an axes-level function for histograms).\n",
            "  warnings.warn(msg, FutureWarning)\n"
          ],
          "name": "stderr"
        },
        {
          "output_type": "display_data",
          "data": {
            "image/png": "[encoded data removed]",
            "text/plain": [
              "<Figure size 1728x1296 with 6 Axes>"
            ]
          },
          "metadata": {
            "tags": [],
            "needs_background": "light"
          }
        }
      ]
    },
    {
      "cell_type": "markdown",
      "metadata": {
        "id": "94KVduAKIxf9"
      },
      "source": [
        "**For Numercical Columns, there is no significant relation to Loan approval status**"
      ]
    },
    {
      "cell_type": "markdown",
      "metadata": {
        "id": "ttOCVA8tIxf9"
      },
      "source": [
        "Dealing With The Loan_Status Column"
      ]
    },
    {
      "cell_type": "code",
      "metadata": {
        "colab": {
          "base_uri": "https://localhost:8080/"
        },
        "id": "TPbqMaO1Ixf9",
        "outputId": "b733c583-3458-48e6-e235-32a5dde4024c"
      },
      "source": [
        "df.Loan_Status.replace({'Y':1, 'N':0},inplace=True)\n",
        "df['Loan_Status'].astype(int)"
      ],
      "execution_count": 14,
      "outputs": [
        {
          "output_type": "execute_result",
          "data": {
            "text/plain": [
              "0      1\n",
              "1      0\n",
              "2      1\n",
              "3      1\n",
              "4      1\n",
              "      ..\n",
              "609    1\n",
              "610    1\n",
              "611    1\n",
              "612    1\n",
              "613    0\n",
              "Name: Loan_Status, Length: 614, dtype: int64"
            ]
          },
          "metadata": {
            "tags": []
          },
          "execution_count": 14
        }
      ]
    },
    {
      "cell_type": "code",
      "metadata": {
        "colab": {
          "base_uri": "https://localhost:8080/",
          "height": 241
        },
        "id": "OkCOQh5GIxf-",
        "outputId": "ea5951c0-bbf2-4499-8b84-fd1f56baae2a"
      },
      "source": [
        "dummies=pd.get_dummies(df,drop_first=True)\n",
        "dummies.head()"
      ],
      "execution_count": 15,
      "outputs": [
        {
          "output_type": "execute_result",
          "data": {
            "text/html": [
              "<div>\n",
              "<style scoped>\n",
              "    .dataframe tbody tr th:only-of-type {\n",
              "        vertical-align: middle;\n",
              "    }\n",
              "\n",
              "    .dataframe tbody tr th {\n",
              "        vertical-align: top;\n",
              "    }\n",
              "\n",
              "    .dataframe thead th {\n",
              "        text-align: right;\n",
              "    }\n",
              "</style>\n",
              "<table border=\"1\" class=\"dataframe\">\n",
              "  <thead>\n",
              "    <tr style=\"text-align: right;\">\n",
              "      <th></th>\n",
              "      <th>ApplicantIncome</th>\n",
              "      <th>CoapplicantIncome</th>\n",
              "      <th>LoanAmount</th>\n",
              "      <th>Loan_Amount_Term</th>\n",
              "      <th>Credit_History</th>\n",
              "      <th>Loan_Status</th>\n",
              "      <th>Gender_Male</th>\n",
              "      <th>Married_Yes</th>\n",
              "      <th>Dependents_1</th>\n",
              "      <th>Dependents_2</th>\n",
              "      <th>Dependents_3+</th>\n",
              "      <th>Education_Not Graduate</th>\n",
              "      <th>Self_Employed_Yes</th>\n",
              "      <th>Property_Area_Semiurban</th>\n",
              "      <th>Property_Area_Urban</th>\n",
              "    </tr>\n",
              "  </thead>\n",
              "  <tbody>\n",
              "    <tr>\n",
              "      <th>0</th>\n",
              "      <td>5849</td>\n",
              "      <td>0.0</td>\n",
              "      <td>NaN</td>\n",
              "      <td>360.0</td>\n",
              "      <td>1.0</td>\n",
              "      <td>1</td>\n",
              "      <td>1</td>\n",
              "      <td>0</td>\n",
              "      <td>0</td>\n",
              "      <td>0</td>\n",
              "      <td>0</td>\n",
              "      <td>0</td>\n",
              "      <td>0</td>\n",
              "      <td>0</td>\n",
              "      <td>1</td>\n",
              "    </tr>\n",
              "    <tr>\n",
              "      <th>1</th>\n",
              "      <td>4583</td>\n",
              "      <td>1508.0</td>\n",
              "      <td>128.0</td>\n",
              "      <td>360.0</td>\n",
              "      <td>1.0</td>\n",
              "      <td>0</td>\n",
              "      <td>1</td>\n",
              "      <td>1</td>\n",
              "      <td>1</td>\n",
              "      <td>0</td>\n",
              "      <td>0</td>\n",
              "      <td>0</td>\n",
              "      <td>0</td>\n",
              "      <td>0</td>\n",
              "      <td>0</td>\n",
              "    </tr>\n",
              "    <tr>\n",
              "      <th>2</th>\n",
              "      <td>3000</td>\n",
              "      <td>0.0</td>\n",
              "      <td>66.0</td>\n",
              "      <td>360.0</td>\n",
              "      <td>1.0</td>\n",
              "      <td>1</td>\n",
              "      <td>1</td>\n",
              "      <td>1</td>\n",
              "      <td>0</td>\n",
              "      <td>0</td>\n",
              "      <td>0</td>\n",
              "      <td>0</td>\n",
              "      <td>1</td>\n",
              "      <td>0</td>\n",
              "      <td>1</td>\n",
              "    </tr>\n",
              "    <tr>\n",
              "      <th>3</th>\n",
              "      <td>2583</td>\n",
              "      <td>2358.0</td>\n",
              "      <td>120.0</td>\n",
              "      <td>360.0</td>\n",
              "      <td>1.0</td>\n",
              "      <td>1</td>\n",
              "      <td>1</td>\n",
              "      <td>1</td>\n",
              "      <td>0</td>\n",
              "      <td>0</td>\n",
              "      <td>0</td>\n",
              "      <td>1</td>\n",
              "      <td>0</td>\n",
              "      <td>0</td>\n",
              "      <td>1</td>\n",
              "    </tr>\n",
              "    <tr>\n",
              "      <th>4</th>\n",
              "      <td>6000</td>\n",
              "      <td>0.0</td>\n",
              "      <td>141.0</td>\n",
              "      <td>360.0</td>\n",
              "      <td>1.0</td>\n",
              "      <td>1</td>\n",
              "      <td>1</td>\n",
              "      <td>0</td>\n",
              "      <td>0</td>\n",
              "      <td>0</td>\n",
              "      <td>0</td>\n",
              "      <td>0</td>\n",
              "      <td>0</td>\n",
              "      <td>0</td>\n",
              "      <td>1</td>\n",
              "    </tr>\n",
              "  </tbody>\n",
              "</table>\n",
              "</div>"
            ],
            "text/plain": [
              "   ApplicantIncome  ...  Property_Area_Urban\n",
              "0             5849  ...                    1\n",
              "1             4583  ...                    0\n",
              "2             3000  ...                    1\n",
              "3             2583  ...                    1\n",
              "4             6000  ...                    1\n",
              "\n",
              "[5 rows x 15 columns]"
            ]
          },
          "metadata": {
            "tags": []
          },
          "execution_count": 15
        }
      ]
    },
    {
      "cell_type": "code",
      "metadata": {
        "colab": {
          "base_uri": "https://localhost:8080/",
          "height": 241
        },
        "id": "tQyCklBBIxf-",
        "outputId": "b74ce22e-a4a5-4e4d-a113-78917dda3043"
      },
      "source": [
        "from sklearn.impute import SimpleImputer\n",
        "SimImp = SimpleImputer()\n",
        "train= pd.DataFrame(SimImp.fit_transform(dummies), columns=dummies.columns)\n",
        "train.head()"
      ],
      "execution_count": 16,
      "outputs": [
        {
          "output_type": "execute_result",
          "data": {
            "text/html": [
              "<div>\n",
              "<style scoped>\n",
              "    .dataframe tbody tr th:only-of-type {\n",
              "        vertical-align: middle;\n",
              "    }\n",
              "\n",
              "    .dataframe tbody tr th {\n",
              "        vertical-align: top;\n",
              "    }\n",
              "\n",
              "    .dataframe thead th {\n",
              "        text-align: right;\n",
              "    }\n",
              "</style>\n",
              "<table border=\"1\" class=\"dataframe\">\n",
              "  <thead>\n",
              "    <tr style=\"text-align: right;\">\n",
              "      <th></th>\n",
              "      <th>ApplicantIncome</th>\n",
              "      <th>CoapplicantIncome</th>\n",
              "      <th>LoanAmount</th>\n",
              "      <th>Loan_Amount_Term</th>\n",
              "      <th>Credit_History</th>\n",
              "      <th>Loan_Status</th>\n",
              "      <th>Gender_Male</th>\n",
              "      <th>Married_Yes</th>\n",
              "      <th>Dependents_1</th>\n",
              "      <th>Dependents_2</th>\n",
              "      <th>Dependents_3+</th>\n",
              "      <th>Education_Not Graduate</th>\n",
              "      <th>Self_Employed_Yes</th>\n",
              "      <th>Property_Area_Semiurban</th>\n",
              "      <th>Property_Area_Urban</th>\n",
              "    </tr>\n",
              "  </thead>\n",
              "  <tbody>\n",
              "    <tr>\n",
              "      <th>0</th>\n",
              "      <td>5849.0</td>\n",
              "      <td>0.0</td>\n",
              "      <td>146.412162</td>\n",
              "      <td>360.0</td>\n",
              "      <td>1.0</td>\n",
              "      <td>1.0</td>\n",
              "      <td>1.0</td>\n",
              "      <td>0.0</td>\n",
              "      <td>0.0</td>\n",
              "      <td>0.0</td>\n",
              "      <td>0.0</td>\n",
              "      <td>0.0</td>\n",
              "      <td>0.0</td>\n",
              "      <td>0.0</td>\n",
              "      <td>1.0</td>\n",
              "    </tr>\n",
              "    <tr>\n",
              "      <th>1</th>\n",
              "      <td>4583.0</td>\n",
              "      <td>1508.0</td>\n",
              "      <td>128.000000</td>\n",
              "      <td>360.0</td>\n",
              "      <td>1.0</td>\n",
              "      <td>0.0</td>\n",
              "      <td>1.0</td>\n",
              "      <td>1.0</td>\n",
              "      <td>1.0</td>\n",
              "      <td>0.0</td>\n",
              "      <td>0.0</td>\n",
              "      <td>0.0</td>\n",
              "      <td>0.0</td>\n",
              "      <td>0.0</td>\n",
              "      <td>0.0</td>\n",
              "    </tr>\n",
              "    <tr>\n",
              "      <th>2</th>\n",
              "      <td>3000.0</td>\n",
              "      <td>0.0</td>\n",
              "      <td>66.000000</td>\n",
              "      <td>360.0</td>\n",
              "      <td>1.0</td>\n",
              "      <td>1.0</td>\n",
              "      <td>1.0</td>\n",
              "      <td>1.0</td>\n",
              "      <td>0.0</td>\n",
              "      <td>0.0</td>\n",
              "      <td>0.0</td>\n",
              "      <td>0.0</td>\n",
              "      <td>1.0</td>\n",
              "      <td>0.0</td>\n",
              "      <td>1.0</td>\n",
              "    </tr>\n",
              "    <tr>\n",
              "      <th>3</th>\n",
              "      <td>2583.0</td>\n",
              "      <td>2358.0</td>\n",
              "      <td>120.000000</td>\n",
              "      <td>360.0</td>\n",
              "      <td>1.0</td>\n",
              "      <td>1.0</td>\n",
              "      <td>1.0</td>\n",
              "      <td>1.0</td>\n",
              "      <td>0.0</td>\n",
              "      <td>0.0</td>\n",
              "      <td>0.0</td>\n",
              "      <td>1.0</td>\n",
              "      <td>0.0</td>\n",
              "      <td>0.0</td>\n",
              "      <td>1.0</td>\n",
              "    </tr>\n",
              "    <tr>\n",
              "      <th>4</th>\n",
              "      <td>6000.0</td>\n",
              "      <td>0.0</td>\n",
              "      <td>141.000000</td>\n",
              "      <td>360.0</td>\n",
              "      <td>1.0</td>\n",
              "      <td>1.0</td>\n",
              "      <td>1.0</td>\n",
              "      <td>0.0</td>\n",
              "      <td>0.0</td>\n",
              "      <td>0.0</td>\n",
              "      <td>0.0</td>\n",
              "      <td>0.0</td>\n",
              "      <td>0.0</td>\n",
              "      <td>0.0</td>\n",
              "      <td>1.0</td>\n",
              "    </tr>\n",
              "  </tbody>\n",
              "</table>\n",
              "</div>"
            ],
            "text/plain": [
              "   ApplicantIncome  ...  Property_Area_Urban\n",
              "0           5849.0  ...                  1.0\n",
              "1           4583.0  ...                  0.0\n",
              "2           3000.0  ...                  1.0\n",
              "3           2583.0  ...                  1.0\n",
              "4           6000.0  ...                  1.0\n",
              "\n",
              "[5 rows x 15 columns]"
            ]
          },
          "metadata": {
            "tags": []
          },
          "execution_count": 16
        }
      ]
    },
    {
      "cell_type": "code",
      "metadata": {
        "colab": {
          "base_uri": "https://localhost:8080/"
        },
        "id": "ap47GFIwIxf-",
        "outputId": "de751564-9f70-41b6-ff48-9ecbfcb9bdc3"
      },
      "source": [
        "train.isnull().any()"
      ],
      "execution_count": 17,
      "outputs": [
        {
          "output_type": "execute_result",
          "data": {
            "text/plain": [
              "ApplicantIncome            False\n",
              "CoapplicantIncome          False\n",
              "LoanAmount                 False\n",
              "Loan_Amount_Term           False\n",
              "Credit_History             False\n",
              "Loan_Status                False\n",
              "Gender_Male                False\n",
              "Married_Yes                False\n",
              "Dependents_1               False\n",
              "Dependents_2               False\n",
              "Dependents_3+              False\n",
              "Education_Not Graduate     False\n",
              "Self_Employed_Yes          False\n",
              "Property_Area_Semiurban    False\n",
              "Property_Area_Urban        False\n",
              "dtype: bool"
            ]
          },
          "metadata": {
            "tags": []
          },
          "execution_count": 17
        }
      ]
    },
    {
      "cell_type": "code",
      "metadata": {
        "colab": {
          "base_uri": "https://localhost:8080/",
          "height": 296
        },
        "id": "A_C73WIbIxf_",
        "outputId": "6c0232ca-5780-416f-d4ab-d6a2896e8c38"
      },
      "source": [
        "# we'll create a binary column here for loan amount term and check the data with a count plot\n",
        "train['Loan_Term_360']=np.where(train.Loan_Amount_Term == 360,1,0)\n",
        "\n",
        "# looks like there is some importance and can be used in the model\n",
        "sns.countplot(y='Loan_Term_360', data=train, hue='Loan_Status')"
      ],
      "execution_count": 18,
      "outputs": [
        {
          "output_type": "execute_result",
          "data": {
            "text/plain": [
              "<matplotlib.axes._subplots.AxesSubplot at 0x7fcc46906410>"
            ]
          },
          "metadata": {
            "tags": []
          },
          "execution_count": 18
        },
        {
          "output_type": "display_data",
          "data": {
            "image/png": "[encoded data removed]",
            "text/plain": [
              "<Figure size 432x288 with 1 Axes>"
            ]
          },
          "metadata": {
            "tags": [],
            "needs_background": "light"
          }
        }
      ]
    },
    {
      "cell_type": "code",
      "metadata": {
        "colab": {
          "base_uri": "https://localhost:8080/",
          "height": 296
        },
        "id": "V79Esh7_Ixf_",
        "outputId": "0e29243c-5fff-4bd3-c3c9-aaadfa05e78b"
      },
      "source": [
        "#we see that regardless of CoapplicantIncome loans have been rejected in equal amounts and this variable might not help\n",
        "NoCoapplicantIncome= np.where(train['CoapplicantIncome']== 0, 1, 0)\n",
        "\n",
        "# looks like there is some importance and can be used in the model\n",
        "sns.countplot(y=NoCoapplicantIncome, hue=train.Loan_Status)"
      ],
      "execution_count": 19,
      "outputs": [
        {
          "output_type": "execute_result",
          "data": {
            "text/plain": [
              "<matplotlib.axes._subplots.AxesSubplot at 0x7fcc4665ea10>"
            ]
          },
          "metadata": {
            "tags": []
          },
          "execution_count": 19
        },
        {
          "output_type": "display_data",
          "data": {
            "image/png": "[encoded data removed]",
            "text/plain": [
              "<Figure size 432x288 with 1 Axes>"
            ]
          },
          "metadata": {
            "tags": [],
            "needs_background": "light"
          }
        }
      ]
    },
    {
      "cell_type": "code",
      "metadata": {
        "colab": {
          "base_uri": "https://localhost:8080/",
          "height": 241
        },
        "id": "2fhr_I6mIxf_",
        "outputId": "11a2aa93-7123-4926-9736-60a36afdde30"
      },
      "source": [
        "train.drop('Loan_Amount_Term', inplace= True, axis= 1)\n",
        "train.head()"
      ],
      "execution_count": 20,
      "outputs": [
        {
          "output_type": "execute_result",
          "data": {
            "text/html": [
              "<div>\n",
              "<style scoped>\n",
              "    .dataframe tbody tr th:only-of-type {\n",
              "        vertical-align: middle;\n",
              "    }\n",
              "\n",
              "    .dataframe tbody tr th {\n",
              "        vertical-align: top;\n",
              "    }\n",
              "\n",
              "    .dataframe thead th {\n",
              "        text-align: right;\n",
              "    }\n",
              "</style>\n",
              "<table border=\"1\" class=\"dataframe\">\n",
              "  <thead>\n",
              "    <tr style=\"text-align: right;\">\n",
              "      <th></th>\n",
              "      <th>ApplicantIncome</th>\n",
              "      <th>CoapplicantIncome</th>\n",
              "      <th>LoanAmount</th>\n",
              "      <th>Credit_History</th>\n",
              "      <th>Loan_Status</th>\n",
              "      <th>Gender_Male</th>\n",
              "      <th>Married_Yes</th>\n",
              "      <th>Dependents_1</th>\n",
              "      <th>Dependents_2</th>\n",
              "      <th>Dependents_3+</th>\n",
              "      <th>Education_Not Graduate</th>\n",
              "      <th>Self_Employed_Yes</th>\n",
              "      <th>Property_Area_Semiurban</th>\n",
              "      <th>Property_Area_Urban</th>\n",
              "      <th>Loan_Term_360</th>\n",
              "    </tr>\n",
              "  </thead>\n",
              "  <tbody>\n",
              "    <tr>\n",
              "      <th>0</th>\n",
              "      <td>5849.0</td>\n",
              "      <td>0.0</td>\n",
              "      <td>146.412162</td>\n",
              "      <td>1.0</td>\n",
              "      <td>1.0</td>\n",
              "      <td>1.0</td>\n",
              "      <td>0.0</td>\n",
              "      <td>0.0</td>\n",
              "      <td>0.0</td>\n",
              "      <td>0.0</td>\n",
              "      <td>0.0</td>\n",
              "      <td>0.0</td>\n",
              "      <td>0.0</td>\n",
              "      <td>1.0</td>\n",
              "      <td>1</td>\n",
              "    </tr>\n",
              "    <tr>\n",
              "      <th>1</th>\n",
              "      <td>4583.0</td>\n",
              "      <td>1508.0</td>\n",
              "      <td>128.000000</td>\n",
              "      <td>1.0</td>\n",
              "      <td>0.0</td>\n",
              "      <td>1.0</td>\n",
              "      <td>1.0</td>\n",
              "      <td>1.0</td>\n",
              "      <td>0.0</td>\n",
              "      <td>0.0</td>\n",
              "      <td>0.0</td>\n",
              "      <td>0.0</td>\n",
              "      <td>0.0</td>\n",
              "      <td>0.0</td>\n",
              "      <td>1</td>\n",
              "    </tr>\n",
              "    <tr>\n",
              "      <th>2</th>\n",
              "      <td>3000.0</td>\n",
              "      <td>0.0</td>\n",
              "      <td>66.000000</td>\n",
              "      <td>1.0</td>\n",
              "      <td>1.0</td>\n",
              "      <td>1.0</td>\n",
              "      <td>1.0</td>\n",
              "      <td>0.0</td>\n",
              "      <td>0.0</td>\n",
              "      <td>0.0</td>\n",
              "      <td>0.0</td>\n",
              "      <td>1.0</td>\n",
              "      <td>0.0</td>\n",
              "      <td>1.0</td>\n",
              "      <td>1</td>\n",
              "    </tr>\n",
              "    <tr>\n",
              "      <th>3</th>\n",
              "      <td>2583.0</td>\n",
              "      <td>2358.0</td>\n",
              "      <td>120.000000</td>\n",
              "      <td>1.0</td>\n",
              "      <td>1.0</td>\n",
              "      <td>1.0</td>\n",
              "      <td>1.0</td>\n",
              "      <td>0.0</td>\n",
              "      <td>0.0</td>\n",
              "      <td>0.0</td>\n",
              "      <td>1.0</td>\n",
              "      <td>0.0</td>\n",
              "      <td>0.0</td>\n",
              "      <td>1.0</td>\n",
              "      <td>1</td>\n",
              "    </tr>\n",
              "    <tr>\n",
              "      <th>4</th>\n",
              "      <td>6000.0</td>\n",
              "      <td>0.0</td>\n",
              "      <td>141.000000</td>\n",
              "      <td>1.0</td>\n",
              "      <td>1.0</td>\n",
              "      <td>1.0</td>\n",
              "      <td>0.0</td>\n",
              "      <td>0.0</td>\n",
              "      <td>0.0</td>\n",
              "      <td>0.0</td>\n",
              "      <td>0.0</td>\n",
              "      <td>0.0</td>\n",
              "      <td>0.0</td>\n",
              "      <td>1.0</td>\n",
              "      <td>1</td>\n",
              "    </tr>\n",
              "  </tbody>\n",
              "</table>\n",
              "</div>"
            ],
            "text/plain": [
              "   ApplicantIncome  CoapplicantIncome  ...  Property_Area_Urban  Loan_Term_360\n",
              "0           5849.0                0.0  ...                  1.0              1\n",
              "1           4583.0             1508.0  ...                  0.0              1\n",
              "2           3000.0                0.0  ...                  1.0              1\n",
              "3           2583.0             2358.0  ...                  1.0              1\n",
              "4           6000.0                0.0  ...                  1.0              1\n",
              "\n",
              "[5 rows x 15 columns]"
            ]
          },
          "metadata": {
            "tags": []
          },
          "execution_count": 20
        }
      ]
    },
    {
      "cell_type": "code",
      "metadata": {
        "colab": {
          "base_uri": "https://localhost:8080/"
        },
        "id": "W4TVh-2CIxf_",
        "outputId": "ceaee636-d9bb-467f-f413-27e8d2c1b0ec"
      },
      "source": [
        "train.shape"
      ],
      "execution_count": 21,
      "outputs": [
        {
          "output_type": "execute_result",
          "data": {
            "text/plain": [
              "(614, 15)"
            ]
          },
          "metadata": {
            "tags": []
          },
          "execution_count": 21
        }
      ]
    },
    {
      "cell_type": "code",
      "metadata": {
        "id": "U2XUJMe2IxgA"
      },
      "source": [
        "X=train.drop('Loan_Status',axis=1)\n",
        "y=train[['Loan_Status']]"
      ],
      "execution_count": 22,
      "outputs": []
    },
    {
      "cell_type": "code",
      "metadata": {
        "id": "k1NBXmy2IxgA"
      },
      "source": [
        "from sklearn.model_selection import train_test_split\n",
        "X_train,X_test,y_train,y_test=train_test_split(X, y, test_size=0.2, random_state=42, stratify=y)"
      ],
      "execution_count": 23,
      "outputs": []
    },
    {
      "cell_type": "code",
      "metadata": {
        "id": "irFtfg9aIxgA"
      },
      "source": [
        "from sklearn.tree import DecisionTreeClassifier\n",
        "DTC=DecisionTreeClassifier()\n",
        "DTC.fit(X_train,y_train)\n",
        "DTC_pred=DTC.predict(X_test)"
      ],
      "execution_count": 24,
      "outputs": []
    },
    {
      "cell_type": "code",
      "metadata": {
        "colab": {
          "base_uri": "https://localhost:8080/"
        },
        "id": "VJnQwa6uIxgA",
        "outputId": "57586950-fa07-43f6-83cb-247057ab6b3d"
      },
      "source": [
        "from sklearn.metrics import classification_report,confusion_matrix\n",
        "print(classification_report(y_test,DTC_pred))\n",
        "print(confusion_matrix(y_test,DTC_pred))"
      ],
      "execution_count": 25,
      "outputs": [
        {
          "output_type": "stream",
          "text": [
            "              precision    recall  f1-score   support\n",
            "\n",
            "         0.0       0.57      0.63      0.60        38\n",
            "         1.0       0.83      0.79      0.81        85\n",
            "\n",
            "    accuracy                           0.74       123\n",
            "   macro avg       0.70      0.71      0.70       123\n",
            "weighted avg       0.75      0.74      0.74       123\n",
            "\n",
            "[[24 14]\n",
            " [18 67]]\n"
          ],
          "name": "stdout"
        }
      ]
    },
    {
      "cell_type": "code",
      "metadata": {
        "colab": {
          "base_uri": "https://localhost:8080/"
        },
        "id": "RkEfg301IxgB",
        "outputId": "87138587-32de-4e49-f293-cee3fbd895cd"
      },
      "source": [
        "from sklearn.model_selection import cross_val_score\n",
        "print(\"Validation Mean Accuracy: \",cross_val_score(DTC,X_train,y_train,cv=5,scoring='accuracy').mean())"
      ],
      "execution_count": 26,
      "outputs": [
        {
          "output_type": "stream",
          "text": [
            "Validation Mean Accuracy:  0.6944547515976088\n"
          ],
          "name": "stdout"
        }
      ]
    },
    {
      "cell_type": "markdown",
      "metadata": {
        "id": "PCmhwGlGIxgB"
      },
      "source": [
        "We can see from above metrics that Training Accuracy > Test Accuracy with default settings of Decision Tree classifier. Hence, model is overfit. We will try some Hyper-parameter tuning and see if it helps."
      ]
    },
    {
      "cell_type": "markdown",
      "metadata": {
        "id": "qTA12ZyhIxgB"
      },
      "source": [
        "**First let's try tuning 'Max_Depth' of tree**"
      ]
    },
    {
      "cell_type": "code",
      "metadata": {
        "colab": {
          "base_uri": "https://localhost:8080/",
          "height": 352
        },
        "id": "x2nVtKdBIxgB",
        "outputId": "c5256861-1f56-4246-d15a-f7d28dc39607"
      },
      "source": [
        "from sklearn.metrics import accuracy_score,f1_score\n",
        "training_accuracy = []\n",
        "val_accuracy = []\n",
        "training_f1 = []\n",
        "val_f1 = []\n",
        "tree_depths = []\n",
        "\n",
        "for depth in range(1,20):\n",
        "    DTC = DecisionTreeClassifier(max_depth=depth)\n",
        "    DTC.fit(X_train,y_train)\n",
        "    pred = DTC.predict(X_train)\n",
        "\n",
        "    training_acc = accuracy_score(y_train,pred)\n",
        "    train_f1 = f1_score(y_train,pred)\n",
        "    val_mean_f1 = cross_val_score(DTC, X_train,y_train, cv=5, scoring='f1_macro').mean()\n",
        "    val_mean_accuracy = cross_val_score(DTC, X_train,y_train, cv=5, scoring='accuracy').mean()\n",
        "    \n",
        "    training_accuracy.append(training_acc)\n",
        "    val_accuracy.append(val_mean_accuracy)\n",
        "    training_f1.append(train_f1)\n",
        "    val_f1.append(val_mean_f1)\n",
        "    tree_depths.append(depth)\n",
        "    \n",
        "\n",
        "Tuning_Max_depth = {\"Training Accuracy\": training_accuracy, \"Validation Accuracy\": val_accuracy, \"Training F1\": training_f1, \n",
        "                    \"Validation F1\":val_f1, \"Max_Depth\": tree_depths }\n",
        "\n",
        "Tuning_Max_depth_df = pd.DataFrame.from_dict(Tuning_Max_depth)\n",
        "\n",
        "plot_df = Tuning_Max_depth_df.melt('Max_Depth',var_name='Metrics',value_name=\"Values\")\n",
        "\n",
        "fig,ax = plt.subplots(figsize=(15,5))\n",
        "sns.pointplot(x=\"Max_Depth\", y=\"Values\",hue=\"Metrics\", data=plot_df,ax=ax)\n"
      ],
      "execution_count": 27,
      "outputs": [
        {
          "output_type": "execute_result",
          "data": {
            "text/plain": [
              "<matplotlib.axes._subplots.AxesSubplot at 0x7fcc45a74310>"
            ]
          },
          "metadata": {
            "tags": []
          },
          "execution_count": 27
        },
        {
          "output_type": "display_data",
          "data": {
            "image/png": "[encoded data removed]",
            "text/plain": [
              "<Figure size 1080x360 with 1 Axes>"
            ]
          },
          "metadata": {
            "tags": [],
            "needs_background": "light"
          }
        }
      ]
    },
    {
      "cell_type": "markdown",
      "metadata": {
        "id": "3nM-9Q7lIxgC"
      },
      "source": [
        "From above graph, we can conclude that keeping 'Max_Depth' = 3 will yield optimum Test accuracy and F1 score Optimum Test Accuracy ~ 0.805; Optimum F1 Score: ~0.7"
      ]
    },
    {
      "cell_type": "markdown",
      "metadata": {
        "id": "fmUwxUIYIxgD"
      },
      "source": [
        "**Visulazing Decision Tree with Max Depth = 3**"
      ]
    },
    {
      "cell_type": "code",
      "metadata": {
        "colab": {
          "base_uri": "https://localhost:8080/",
          "height": 518
        },
        "id": "o5FhE73HIxgD",
        "outputId": "ef6a343c-47ee-48dc-bfc8-d9117ae98e64"
      },
      "source": [
        "import graphviz \n",
        "from sklearn import tree\n",
        "\n",
        "DTC = tree.DecisionTreeClassifier(max_depth = 3)\n",
        "DTC.fit(X_train,y_train)\n",
        "dot_data = tree.export_graphviz(DTC,feature_names = X.columns.tolist())\n",
        "graph = graphviz.Source(dot_data)\n",
        "graph"
      ],
      "execution_count": 28,
      "outputs": [
        {
          "output_type": "execute_result",
          "data": {
            "text/plain": [
              "<graphviz.files.Source at 0x7fcc45893490>"
            ],
            "image/svg+xml": "<?xml version=\"1.0\" encoding=\"UTF-8\" standalone=\"no\"?>\n<!DOCTYPE svg PUBLIC \"-//W3C//DTD SVG 1.1//EN\"\n \"http://www.w3.org/Graphics/SVG/1.1/DTD/svg11.dtd\">\n<!-- Generated by graphviz version 2.40.1 (20161225.0304)\n -->\n<!-- Title: Tree Pages: 1 -->\n<svg width=\"760pt\" height=\"373pt\"\n viewBox=\"0.00 0.00 760.00 373.00\" xmlns=\"http://www.w3.org/2000/svg\" xmlns:xlink=\"http://www.w3.org/1999/xlink\">\n<g id=\"graph0\" class=\"graph\" transform=\"scale(1 1) rotate(0) translate(4 369)\">\n<title>Tree</title>\n<polygon fill=\"#ffffff\" stroke=\"transparent\" points=\"-4,4 -4,-369 756,-369 756,4 -4,4\"/>\n<!-- 0 -->\n<g id=\"node1\" class=\"node\">\n<title>0</title>\n<polygon fill=\"none\" stroke=\"#000000\" points=\"424.5,-365 264.5,-365 264.5,-297 424.5,-297 424.5,-365\"/>\n<text text-anchor=\"middle\" x=\"344.5\" y=\"-349.8\" font-family=\"Times,serif\" font-size=\"14.00\" fill=\"#000000\">Credit_History &lt;= 0.421</text>\n<text text-anchor=\"middle\" x=\"344.5\" y=\"-334.8\" font-family=\"Times,serif\" font-size=\"14.00\" fill=\"#000000\">gini = 0.431</text>\n<text text-anchor=\"middle\" x=\"344.5\" y=\"-319.8\" font-family=\"Times,serif\" font-size=\"14.00\" fill=\"#000000\">samples = 491</text>\n<text text-anchor=\"middle\" x=\"344.5\" y=\"-304.8\" font-family=\"Times,serif\" font-size=\"14.00\" fill=\"#000000\">value = [154, 337]</text>\n</g>\n<!-- 1 -->\n<g id=\"node2\" class=\"node\">\n<title>1</title>\n<polygon fill=\"none\" stroke=\"#000000\" points=\"325.5,-261 173.5,-261 173.5,-193 325.5,-193 325.5,-261\"/>\n<text text-anchor=\"middle\" x=\"249.5\" y=\"-245.8\" font-family=\"Times,serif\" font-size=\"14.00\" fill=\"#000000\">LoanAmount &lt;= 488.0</text>\n<text text-anchor=\"middle\" x=\"249.5\" y=\"-230.8\" font-family=\"Times,serif\" font-size=\"14.00\" fill=\"#000000\">gini = 0.163</text>\n<text text-anchor=\"middle\" x=\"249.5\" y=\"-215.8\" font-family=\"Times,serif\" font-size=\"14.00\" fill=\"#000000\">samples = 67</text>\n<text text-anchor=\"middle\" x=\"249.5\" y=\"-200.8\" font-family=\"Times,serif\" font-size=\"14.00\" fill=\"#000000\">value = [61, 6]</text>\n</g>\n<!-- 0&#45;&gt;1 -->\n<g id=\"edge1\" class=\"edge\">\n<title>0&#45;&gt;1</title>\n<path fill=\"none\" stroke=\"#000000\" d=\"M313.3934,-296.9465C305.1099,-287.8782 296.0682,-277.9799 287.4621,-268.5585\"/>\n<polygon fill=\"#000000\" stroke=\"#000000\" points=\"290.005,-266.1528 280.6764,-261.13 284.8367,-270.8739 290.005,-266.1528\"/>\n<text text-anchor=\"middle\" x=\"279.5469\" y=\"-282.4045\" font-family=\"Times,serif\" font-size=\"14.00\" fill=\"#000000\">True</text>\n</g>\n<!-- 6 -->\n<g id=\"node7\" class=\"node\">\n<title>6</title>\n<polygon fill=\"none\" stroke=\"#000000\" points=\"537.5,-261 343.5,-261 343.5,-193 537.5,-193 537.5,-261\"/>\n<text text-anchor=\"middle\" x=\"440.5\" y=\"-245.8\" font-family=\"Times,serif\" font-size=\"14.00\" fill=\"#000000\">CoapplicantIncome &lt;= 9537.0</text>\n<text text-anchor=\"middle\" x=\"440.5\" y=\"-230.8\" font-family=\"Times,serif\" font-size=\"14.00\" fill=\"#000000\">gini = 0.342</text>\n<text text-anchor=\"middle\" x=\"440.5\" y=\"-215.8\" font-family=\"Times,serif\" font-size=\"14.00\" fill=\"#000000\">samples = 424</text>\n<text text-anchor=\"middle\" x=\"440.5\" y=\"-200.8\" font-family=\"Times,serif\" font-size=\"14.00\" fill=\"#000000\">value = [93, 331]</text>\n</g>\n<!-- 0&#45;&gt;6 -->\n<g id=\"edge6\" class=\"edge\">\n<title>0&#45;&gt;6</title>\n<path fill=\"none\" stroke=\"#000000\" d=\"M375.934,-296.9465C384.3047,-287.8782 393.4416,-277.9799 402.1383,-268.5585\"/>\n<polygon fill=\"#000000\" stroke=\"#000000\" points=\"404.7844,-270.852 408.9954,-261.13 399.6407,-266.1041 404.7844,-270.852\"/>\n<text text-anchor=\"middle\" x=\"409.9946\" y=\"-282.41\" font-family=\"Times,serif\" font-size=\"14.00\" fill=\"#000000\">False</text>\n</g>\n<!-- 2 -->\n<g id=\"node3\" class=\"node\">\n<title>2</title>\n<polygon fill=\"none\" stroke=\"#000000\" points=\"193,-157 0,-157 0,-89 193,-89 193,-157\"/>\n<text text-anchor=\"middle\" x=\"96.5\" y=\"-141.8\" font-family=\"Times,serif\" font-size=\"14.00\" fill=\"#000000\">CoapplicantIncome &lt;= 8115.0</text>\n<text text-anchor=\"middle\" x=\"96.5\" y=\"-126.8\" font-family=\"Times,serif\" font-size=\"14.00\" fill=\"#000000\">gini = 0.14</text>\n<text text-anchor=\"middle\" x=\"96.5\" y=\"-111.8\" font-family=\"Times,serif\" font-size=\"14.00\" fill=\"#000000\">samples = 66</text>\n<text text-anchor=\"middle\" x=\"96.5\" y=\"-96.8\" font-family=\"Times,serif\" font-size=\"14.00\" fill=\"#000000\">value = [61, 5]</text>\n</g>\n<!-- 1&#45;&gt;2 -->\n<g id=\"edge2\" class=\"edge\">\n<title>1&#45;&gt;2</title>\n<path fill=\"none\" stroke=\"#000000\" d=\"M199.4021,-192.9465C185.2687,-183.3395 169.7648,-172.8009 155.1767,-162.8848\"/>\n<polygon fill=\"#000000\" stroke=\"#000000\" points=\"156.9483,-159.8571 146.7105,-157.13 153.0132,-165.6463 156.9483,-159.8571\"/>\n</g>\n<!-- 5 -->\n<g id=\"node6\" class=\"node\">\n<title>5</title>\n<polygon fill=\"none\" stroke=\"#000000\" points=\"306,-149.5 211,-149.5 211,-96.5 306,-96.5 306,-149.5\"/>\n<text text-anchor=\"middle\" x=\"258.5\" y=\"-134.3\" font-family=\"Times,serif\" font-size=\"14.00\" fill=\"#000000\">gini = 0.0</text>\n<text text-anchor=\"middle\" x=\"258.5\" y=\"-119.3\" font-family=\"Times,serif\" font-size=\"14.00\" fill=\"#000000\">samples = 1</text>\n<text text-anchor=\"middle\" x=\"258.5\" y=\"-104.3\" font-family=\"Times,serif\" font-size=\"14.00\" fill=\"#000000\">value = [0, 1]</text>\n</g>\n<!-- 1&#45;&gt;5 -->\n<g id=\"edge5\" class=\"edge\">\n<title>1&#45;&gt;5</title>\n<path fill=\"none\" stroke=\"#000000\" d=\"M252.4469,-192.9465C253.3716,-182.2621 254.3959,-170.4254 255.3349,-159.5742\"/>\n<polygon fill=\"#000000\" stroke=\"#000000\" points=\"258.8278,-159.8067 256.2031,-149.5422 251.8539,-159.2031 258.8278,-159.8067\"/>\n</g>\n<!-- 3 -->\n<g id=\"node4\" class=\"node\">\n<title>3</title>\n<polygon fill=\"none\" stroke=\"#000000\" points=\"118.5,-53 16.5,-53 16.5,0 118.5,0 118.5,-53\"/>\n<text text-anchor=\"middle\" x=\"67.5\" y=\"-37.8\" font-family=\"Times,serif\" font-size=\"14.00\" fill=\"#000000\">gini = 0.116</text>\n<text text-anchor=\"middle\" x=\"67.5\" y=\"-22.8\" font-family=\"Times,serif\" font-size=\"14.00\" fill=\"#000000\">samples = 65</text>\n<text text-anchor=\"middle\" x=\"67.5\" y=\"-7.8\" font-family=\"Times,serif\" font-size=\"14.00\" fill=\"#000000\">value = [61, 4]</text>\n</g>\n<!-- 2&#45;&gt;3 -->\n<g id=\"edge3\" class=\"edge\">\n<title>2&#45;&gt;3</title>\n<path fill=\"none\" stroke=\"#000000\" d=\"M86.2757,-88.9777C83.744,-80.5533 81.0213,-71.4934 78.4563,-62.9579\"/>\n<polygon fill=\"#000000\" stroke=\"#000000\" points=\"81.7684,-61.818 75.5384,-53.2485 75.0646,-63.8327 81.7684,-61.818\"/>\n</g>\n<!-- 4 -->\n<g id=\"node5\" class=\"node\">\n<title>4</title>\n<polygon fill=\"none\" stroke=\"#000000\" points=\"232,-53 137,-53 137,0 232,0 232,-53\"/>\n<text text-anchor=\"middle\" x=\"184.5\" y=\"-37.8\" font-family=\"Times,serif\" font-size=\"14.00\" fill=\"#000000\">gini = 0.0</text>\n<text text-anchor=\"middle\" x=\"184.5\" y=\"-22.8\" font-family=\"Times,serif\" font-size=\"14.00\" fill=\"#000000\">samples = 1</text>\n<text text-anchor=\"middle\" x=\"184.5\" y=\"-7.8\" font-family=\"Times,serif\" font-size=\"14.00\" fill=\"#000000\">value = [0, 1]</text>\n</g>\n<!-- 2&#45;&gt;4 -->\n<g id=\"edge4\" class=\"edge\">\n<title>2&#45;&gt;4</title>\n<path fill=\"none\" stroke=\"#000000\" d=\"M127.5255,-88.9777C135.8759,-79.8207 144.911,-69.9129 153.2724,-60.744\"/>\n<polygon fill=\"#000000\" stroke=\"#000000\" points=\"155.9556,-62.9959 160.1076,-53.2485 150.7833,-58.2791 155.9556,-62.9959\"/>\n</g>\n<!-- 7 -->\n<g id=\"node8\" class=\"node\">\n<title>7</title>\n<polygon fill=\"none\" stroke=\"#000000\" points=\"522,-157 341,-157 341,-89 522,-89 522,-157\"/>\n<text text-anchor=\"middle\" x=\"431.5\" y=\"-141.8\" font-family=\"Times,serif\" font-size=\"14.00\" fill=\"#000000\">ApplicantIncome &lt;= 3357.5</text>\n<text text-anchor=\"middle\" x=\"431.5\" y=\"-126.8\" font-family=\"Times,serif\" font-size=\"14.00\" fill=\"#000000\">gini = 0.337</text>\n<text text-anchor=\"middle\" x=\"431.5\" y=\"-111.8\" font-family=\"Times,serif\" font-size=\"14.00\" fill=\"#000000\">samples = 420</text>\n<text text-anchor=\"middle\" x=\"431.5\" y=\"-96.8\" font-family=\"Times,serif\" font-size=\"14.00\" fill=\"#000000\">value = [90, 330]</text>\n</g>\n<!-- 6&#45;&gt;7 -->\n<g id=\"edge7\" class=\"edge\">\n<title>6&#45;&gt;7</title>\n<path fill=\"none\" stroke=\"#000000\" d=\"M437.5531,-192.9465C436.846,-184.776 436.0806,-175.9318 435.3397,-167.3697\"/>\n<polygon fill=\"#000000\" stroke=\"#000000\" points=\"438.8028,-166.791 434.4536,-157.13 431.8288,-167.3945 438.8028,-166.791\"/>\n</g>\n<!-- 10 -->\n<g id=\"node11\" class=\"node\">\n<title>10</title>\n<polygon fill=\"none\" stroke=\"#000000\" points=\"692.5,-157 540.5,-157 540.5,-89 692.5,-89 692.5,-157\"/>\n<text text-anchor=\"middle\" x=\"616.5\" y=\"-141.8\" font-family=\"Times,serif\" font-size=\"14.00\" fill=\"#000000\">LoanAmount &lt;= 171.0</text>\n<text text-anchor=\"middle\" x=\"616.5\" y=\"-126.8\" font-family=\"Times,serif\" font-size=\"14.00\" fill=\"#000000\">gini = 0.375</text>\n<text text-anchor=\"middle\" x=\"616.5\" y=\"-111.8\" font-family=\"Times,serif\" font-size=\"14.00\" fill=\"#000000\">samples = 4</text>\n<text text-anchor=\"middle\" x=\"616.5\" y=\"-96.8\" font-family=\"Times,serif\" font-size=\"14.00\" fill=\"#000000\">value = [3, 1]</text>\n</g>\n<!-- 6&#45;&gt;10 -->\n<g id=\"edge10\" class=\"edge\">\n<title>6&#45;&gt;10</title>\n<path fill=\"none\" stroke=\"#000000\" d=\"M498.129,-192.9465C514.6909,-183.1599 532.8888,-172.4066 549.9425,-162.3294\"/>\n<polygon fill=\"#000000\" stroke=\"#000000\" points=\"551.9128,-165.2306 558.7415,-157.13 548.3517,-159.2041 551.9128,-165.2306\"/>\n</g>\n<!-- 8 -->\n<g id=\"node9\" class=\"node\">\n<title>8</title>\n<polygon fill=\"none\" stroke=\"#000000\" points=\"383,-53 266,-53 266,0 383,0 383,-53\"/>\n<text text-anchor=\"middle\" x=\"324.5\" y=\"-37.8\" font-family=\"Times,serif\" font-size=\"14.00\" fill=\"#000000\">gini = 0.253</text>\n<text text-anchor=\"middle\" x=\"324.5\" y=\"-22.8\" font-family=\"Times,serif\" font-size=\"14.00\" fill=\"#000000\">samples = 155</text>\n<text text-anchor=\"middle\" x=\"324.5\" y=\"-7.8\" font-family=\"Times,serif\" font-size=\"14.00\" fill=\"#000000\">value = [23, 132]</text>\n</g>\n<!-- 7&#45;&gt;8 -->\n<g id=\"edge8\" class=\"edge\">\n<title>7&#45;&gt;8</title>\n<path fill=\"none\" stroke=\"#000000\" d=\"M393.7758,-88.9777C383.4194,-79.6376 372.1969,-69.5163 361.861,-60.1947\"/>\n<polygon fill=\"#000000\" stroke=\"#000000\" points=\"363.9291,-57.3467 354.1589,-53.2485 359.2409,-62.5449 363.9291,-57.3467\"/>\n</g>\n<!-- 9 -->\n<g id=\"node10\" class=\"node\">\n<title>9</title>\n<polygon fill=\"none\" stroke=\"#000000\" points=\"518,-53 401,-53 401,0 518,0 518,-53\"/>\n<text text-anchor=\"middle\" x=\"459.5\" y=\"-37.8\" font-family=\"Times,serif\" font-size=\"14.00\" fill=\"#000000\">gini = 0.378</text>\n<text text-anchor=\"middle\" x=\"459.5\" y=\"-22.8\" font-family=\"Times,serif\" font-size=\"14.00\" fill=\"#000000\">samples = 265</text>\n<text text-anchor=\"middle\" x=\"459.5\" y=\"-7.8\" font-family=\"Times,serif\" font-size=\"14.00\" fill=\"#000000\">value = [67, 198]</text>\n</g>\n<!-- 7&#45;&gt;9 -->\n<g id=\"edge9\" class=\"edge\">\n<title>7&#45;&gt;9</title>\n<path fill=\"none\" stroke=\"#000000\" d=\"M441.3718,-88.9777C443.8161,-80.5533 446.4449,-71.4934 448.9215,-62.9579\"/>\n<polygon fill=\"#000000\" stroke=\"#000000\" points=\"452.3135,-63.8277 451.7388,-53.2485 445.5907,-61.877 452.3135,-63.8277\"/>\n</g>\n<!-- 11 -->\n<g id=\"node12\" class=\"node\">\n<title>11</title>\n<polygon fill=\"none\" stroke=\"#000000\" points=\"639,-53 544,-53 544,0 639,0 639,-53\"/>\n<text text-anchor=\"middle\" x=\"591.5\" y=\"-37.8\" font-family=\"Times,serif\" font-size=\"14.00\" fill=\"#000000\">gini = 0.0</text>\n<text text-anchor=\"middle\" x=\"591.5\" y=\"-22.8\" font-family=\"Times,serif\" font-size=\"14.00\" fill=\"#000000\">samples = 1</text>\n<text text-anchor=\"middle\" x=\"591.5\" y=\"-7.8\" font-family=\"Times,serif\" font-size=\"14.00\" fill=\"#000000\">value = [0, 1]</text>\n</g>\n<!-- 10&#45;&gt;11 -->\n<g id=\"edge11\" class=\"edge\">\n<title>10&#45;&gt;11</title>\n<path fill=\"none\" stroke=\"#000000\" d=\"M607.6859,-88.9777C605.5034,-80.5533 603.1563,-71.4934 600.9451,-62.9579\"/>\n<polygon fill=\"#000000\" stroke=\"#000000\" points=\"604.3258,-62.0511 598.4297,-53.2485 597.5495,-63.8067 604.3258,-62.0511\"/>\n</g>\n<!-- 12 -->\n<g id=\"node13\" class=\"node\">\n<title>12</title>\n<polygon fill=\"none\" stroke=\"#000000\" points=\"752,-53 657,-53 657,0 752,0 752,-53\"/>\n<text text-anchor=\"middle\" x=\"704.5\" y=\"-37.8\" font-family=\"Times,serif\" font-size=\"14.00\" fill=\"#000000\">gini = 0.0</text>\n<text text-anchor=\"middle\" x=\"704.5\" y=\"-22.8\" font-family=\"Times,serif\" font-size=\"14.00\" fill=\"#000000\">samples = 3</text>\n<text text-anchor=\"middle\" x=\"704.5\" y=\"-7.8\" font-family=\"Times,serif\" font-size=\"14.00\" fill=\"#000000\">value = [3, 0]</text>\n</g>\n<!-- 10&#45;&gt;12 -->\n<g id=\"edge12\" class=\"edge\">\n<title>10&#45;&gt;12</title>\n<path fill=\"none\" stroke=\"#000000\" d=\"M647.5255,-88.9777C655.8759,-79.8207 664.911,-69.9129 673.2724,-60.744\"/>\n<polygon fill=\"#000000\" stroke=\"#000000\" points=\"675.9556,-62.9959 680.1076,-53.2485 670.7833,-58.2791 675.9556,-62.9959\"/>\n</g>\n</g>\n</svg>\n"
          },
          "metadata": {
            "tags": []
          },
          "execution_count": 28
        }
      ]
    },
    {
      "cell_type": "markdown",
      "metadata": {
        "id": "XHNSGvQmIxgD"
      },
      "source": [
        "From above tree, we could see that some of the leafs have less than 5 samples hence our classifier might overfit. We can sweep hyper-parameter 'min_samples_leaf' to further improve test accuracy by keeping max_depth to 3"
      ]
    },
    {
      "cell_type": "code",
      "metadata": {
        "colab": {
          "base_uri": "https://localhost:8080/",
          "height": 352
        },
        "id": "JP6IXQMTIxgE",
        "outputId": "d52503ad-15eb-46d5-a6e0-9aca2d8f4200"
      },
      "source": [
        "training_accuracy = []\n",
        "val_accuracy = []\n",
        "training_f1 = []\n",
        "val_f1 = []\n",
        "min_samples_leaf = []\n",
        "import numpy as np\n",
        "for samples_leaf in range(1,80,3): ### Sweeping from 1% samples to 10% samples per leaf \n",
        "    DTC = DecisionTreeClassifier(max_depth=3,min_samples_leaf = samples_leaf)\n",
        "    DTC.fit(X_train,y_train)\n",
        "    pred = DTC.predict(X_train)\n",
        "\n",
        "    training_acc = accuracy_score(y_train,pred)\n",
        "    train_f1 = f1_score(y_train,pred)\n",
        "    val_mean_f1 = cross_val_score(DTC,X_train,y_train,cv=5,scoring='f1_macro').mean()\n",
        "    val_mean_accuracy = cross_val_score(DTC,X_train,y_train,cv=5,scoring='accuracy').mean()\n",
        "    \n",
        "    training_accuracy.append(training_acc)\n",
        "    val_accuracy.append(val_mean_accuracy)\n",
        "    training_f1.append(train_f1)\n",
        "    val_f1.append(val_mean_f1)\n",
        "    min_samples_leaf.append(samples_leaf)\n",
        "    \n",
        "\n",
        "Tuning_min_samples_leaf = {\"Training Accuracy\": training_accuracy, \"Validation Accuracy\": val_accuracy, \n",
        "                           \"Training F1\": training_f1, \"Validation F1\":val_f1, \"Min_Samples_leaf\": min_samples_leaf }\n",
        "\n",
        "Tuning_min_samples_leaf_df = pd.DataFrame.from_dict(Tuning_min_samples_leaf)\n",
        "\n",
        "plot_df = Tuning_min_samples_leaf_df.melt('Min_Samples_leaf',var_name='Metrics',value_name=\"Values\")\n",
        "\n",
        "fig,ax = plt.subplots(figsize=(15,5))\n",
        "sns.pointplot(x=\"Min_Samples_leaf\", y=\"Values\",hue=\"Metrics\", data=plot_df,ax=ax)"
      ],
      "execution_count": 29,
      "outputs": [
        {
          "output_type": "execute_result",
          "data": {
            "text/plain": [
              "<matplotlib.axes._subplots.AxesSubplot at 0x7fcc45852750>"
            ]
          },
          "metadata": {
            "tags": []
          },
          "execution_count": 29
        },
        {
          "output_type": "display_data",
          "data": {
            "image/png": "[encoded data removed]",
            "text/plain": [
              "<Figure size 1080x360 with 1 Axes>"
            ]
          },
          "metadata": {
            "tags": [],
            "needs_background": "light"
          }
        }
      ]
    },
    {
      "cell_type": "markdown",
      "metadata": {
        "id": "mk3JUtmTIxgE"
      },
      "source": [
        "From above plot, we will choose Min_Samples_leaf to 35 to improve test accuracy."
      ]
    },
    {
      "cell_type": "code",
      "metadata": {
        "colab": {
          "base_uri": "https://localhost:8080/"
        },
        "id": "XKxMtyb_IxgE",
        "outputId": "eb4c34ea-81eb-48bd-c358-96ee11e3c3da"
      },
      "source": [
        "DTC = DecisionTreeClassifier(max_depth=3,min_samples_leaf = 35)\n",
        "DTC.fit(X_train,y_train)\n",
        "pred = DTC.predict(X_test)\n",
        "print(\"Test Accuracy: \",accuracy_score(y_test,pred))\n",
        "print(\"Test F1 Score: \",f1_score(y_test,pred))\n",
        "print(confusion_matrix(y_test,pred))"
      ],
      "execution_count": 30,
      "outputs": [
        {
          "output_type": "stream",
          "text": [
            "Test Accuracy:  0.8536585365853658\n",
            "Test F1 Score:  0.903225806451613\n",
            "[[21 17]\n",
            " [ 1 84]]\n"
          ],
          "name": "stdout"
        }
      ]
    },
    {
      "cell_type": "code",
      "metadata": {
        "colab": {
          "base_uri": "https://localhost:8080/",
          "height": 643
        },
        "id": "9dESw4ASIxgF",
        "outputId": "0c05763f-e17d-41e5-e6df-83406bca5ff2"
      },
      "source": [
        "from sklearn.linear_model import LogisticRegression\n",
        "from sklearn.metrics import accuracy_score\n",
        "from sklearn.model_selection import cross_val_predict\n",
        "\n",
        "train_accuracies = []\n",
        "train_f1_scores = []\n",
        "test_accuracies = []\n",
        "test_f1_scores = []\n",
        "thresholds = []\n",
        "\n",
        "#for thresh in np.linspace(0.1,0.9,8): ## Sweeping from threshold of 0.1 to 0.9\n",
        "for thresh in np.arange(0.1,0.9,0.1): ## Sweeping from threshold of 0.1 to 0.9\n",
        "    LR = LogisticRegression(solver='liblinear')\n",
        "    LR.fit(X_train,y_train)\n",
        "    \n",
        "    LR_train_thresh = LR.predict_proba(X_train)[:,1]\n",
        "    LR_pred_train = (LR_train_thresh > thresh).astype(int)\n",
        "\n",
        "    train_acc = accuracy_score(y_train,LR_pred_train)\n",
        "    train_f1 = f1_score(y_train,LR_pred_train)\n",
        "    \n",
        "    LR_test_thresh = LR.predict_proba(X_test)[:,1]\n",
        "    LR_pred_test = (LR_test_thresh > thresh).astype(int) \n",
        "    \n",
        "    test_acc = accuracy_score(y_test,LR_pred_test)\n",
        "    test_f1 = f1_score(y_test,LR_pred_test)\n",
        "    \n",
        "    train_accuracies.append(train_acc)\n",
        "    train_f1_scores.append(train_f1)\n",
        "    test_accuracies.append(test_acc)\n",
        "    test_f1_scores.append(test_f1)\n",
        "    thresholds.append(thresh)\n",
        "    \n",
        "    \n",
        "Threshold_logreg = {\"Training Accuracy\": train_accuracies, \"Test Accuracy\": test_accuracies, \"Training F1\": train_f1_scores,\n",
        "                    \"Test F1\":test_f1_scores, \"Decision Threshold\": thresholds }\n",
        "\n",
        "Threshold_logreg_df = pd.DataFrame.from_dict(Threshold_logreg)\n",
        "\n",
        "plot_df = Threshold_logreg_df.melt('Decision Threshold',var_name='Metrics',value_name=\"Values\")\n",
        "\n",
        "fig,ax = plt.subplots(figsize=(15,5))\n",
        "sns.pointplot(x=\"Decision Threshold\", y=\"Values\",hue=\"Metrics\", data=plot_df,ax=ax)"
      ],
      "execution_count": 31,
      "outputs": [
        {
          "output_type": "stream",
          "text": [
            "/usr/local/lib/python3.7/dist-packages/sklearn/utils/validation.py:760: DataConversionWarning: A column-vector y was passed when a 1d array was expected. Please change the shape of y to (n_samples, ), for example using ravel().\n",
            "  y = column_or_1d(y, warn=True)\n",
            "/usr/local/lib/python3.7/dist-packages/sklearn/utils/validation.py:760: DataConversionWarning: A column-vector y was passed when a 1d array was expected. Please change the shape of y to (n_samples, ), for example using ravel().\n",
            "  y = column_or_1d(y, warn=True)\n",
            "/usr/local/lib/python3.7/dist-packages/sklearn/utils/validation.py:760: DataConversionWarning: A column-vector y was passed when a 1d array was expected. Please change the shape of y to (n_samples, ), for example using ravel().\n",
            "  y = column_or_1d(y, warn=True)\n",
            "/usr/local/lib/python3.7/dist-packages/sklearn/utils/validation.py:760: DataConversionWarning: A column-vector y was passed when a 1d array was expected. Please change the shape of y to (n_samples, ), for example using ravel().\n",
            "  y = column_or_1d(y, warn=True)\n",
            "/usr/local/lib/python3.7/dist-packages/sklearn/utils/validation.py:760: DataConversionWarning: A column-vector y was passed when a 1d array was expected. Please change the shape of y to (n_samples, ), for example using ravel().\n",
            "  y = column_or_1d(y, warn=True)\n",
            "/usr/local/lib/python3.7/dist-packages/sklearn/utils/validation.py:760: DataConversionWarning: A column-vector y was passed when a 1d array was expected. Please change the shape of y to (n_samples, ), for example using ravel().\n",
            "  y = column_or_1d(y, warn=True)\n",
            "/usr/local/lib/python3.7/dist-packages/sklearn/utils/validation.py:760: DataConversionWarning: A column-vector y was passed when a 1d array was expected. Please change the shape of y to (n_samples, ), for example using ravel().\n",
            "  y = column_or_1d(y, warn=True)\n",
            "/usr/local/lib/python3.7/dist-packages/sklearn/utils/validation.py:760: DataConversionWarning: A column-vector y was passed when a 1d array was expected. Please change the shape of y to (n_samples, ), for example using ravel().\n",
            "  y = column_or_1d(y, warn=True)\n"
          ],
          "name": "stderr"
        },
        {
          "output_type": "execute_result",
          "data": {
            "text/plain": [
              "<matplotlib.axes._subplots.AxesSubplot at 0x7fcc456c4390>"
            ]
          },
          "metadata": {
            "tags": []
          },
          "execution_count": 31
        },
        {
          "output_type": "display_data",
          "data": {
            "image/png": "[encoded data removed]",
            "text/plain": [
              "<Figure size 1080x360 with 1 Axes>"
            ]
          },
          "metadata": {
            "tags": [],
            "needs_background": "light"
          }
        }
      ]
    },
    {
      "cell_type": "code",
      "metadata": {
        "colab": {
          "base_uri": "https://localhost:8080/"
        },
        "id": "7kzF272EIxgF",
        "outputId": "1ad5ac19-9440-411f-a820-f144dfd1d8f1"
      },
      "source": [
        "thresh = 0.4 ### Threshold chosen from above Curves\n",
        "LR_test_thresh = LR.predict_proba(X_test)[:,1]\n",
        "LR_pred_test = (LR_test_thresh > thresh).astype(int) \n",
        "print(\"Test Accuracy: \",accuracy_score(y_test,LR_pred_test))\n",
        "print(\"Test F1 Score: \",f1_score(y_test,LR_pred_test))\n",
        "print(confusion_matrix(y_test,LR_pred_test))"
      ],
      "execution_count": 32,
      "outputs": [
        {
          "output_type": "stream",
          "text": [
            "Test Accuracy:  0.8617886178861789\n",
            "Test F1 Score:  0.9081081081081082\n",
            "[[22 16]\n",
            " [ 1 84]]\n"
          ],
          "name": "stdout"
        }
      ]
    },
    {
      "cell_type": "markdown",
      "metadata": {
        "id": "pGX6-850IxgG"
      },
      "source": [
        "**Logistic Regression Confusion matrix is very similar to Decision Tree and Random Forest Classifier. In this analysis, we did extensive analysis of input data and were able to achieve Test Accuracy of 86 %.**"
      ]
    },
    {
      "cell_type": "markdown",
      "metadata": {
        "id": "AkEdrs72IxgG"
      },
      "source": [
        "## Test Data"
      ]
    },
    {
      "cell_type": "code",
      "metadata": {
        "colab": {
          "base_uri": "https://localhost:8080/",
          "height": 241
        },
        "id": "nFyeh976IxgG",
        "outputId": "99182e69-d701-490b-dc8d-3b80f26ffebf"
      },
      "source": [
        "df2=pd.read_csv('/content/mydrive/MyDrive/Colab Notebooks/Loan Prediction/Loan Prediction Dataset/test.csv')\n",
        "df2.head()"
      ],
      "execution_count": 33,
      "outputs": [
        {
          "output_type": "execute_result",
          "data": {
            "text/html": [
              "<div>\n",
              "<style scoped>\n",
              "    .dataframe tbody tr th:only-of-type {\n",
              "        vertical-align: middle;\n",
              "    }\n",
              "\n",
              "    .dataframe tbody tr th {\n",
              "        vertical-align: top;\n",
              "    }\n",
              "\n",
              "    .dataframe thead th {\n",
              "        text-align: right;\n",
              "    }\n",
              "</style>\n",
              "<table border=\"1\" class=\"dataframe\">\n",
              "  <thead>\n",
              "    <tr style=\"text-align: right;\">\n",
              "      <th></th>\n",
              "      <th>Loan_ID</th>\n",
              "      <th>Gender</th>\n",
              "      <th>Married</th>\n",
              "      <th>Dependents</th>\n",
              "      <th>Education</th>\n",
              "      <th>Self_Employed</th>\n",
              "      <th>ApplicantIncome</th>\n",
              "      <th>CoapplicantIncome</th>\n",
              "      <th>LoanAmount</th>\n",
              "      <th>Loan_Amount_Term</th>\n",
              "      <th>Credit_History</th>\n",
              "      <th>Property_Area</th>\n",
              "    </tr>\n",
              "  </thead>\n",
              "  <tbody>\n",
              "    <tr>\n",
              "      <th>0</th>\n",
              "      <td>LP001015</td>\n",
              "      <td>Male</td>\n",
              "      <td>Yes</td>\n",
              "      <td>0</td>\n",
              "      <td>Graduate</td>\n",
              "      <td>No</td>\n",
              "      <td>5720</td>\n",
              "      <td>0</td>\n",
              "      <td>110.0</td>\n",
              "      <td>360.0</td>\n",
              "      <td>1.0</td>\n",
              "      <td>Urban</td>\n",
              "    </tr>\n",
              "    <tr>\n",
              "      <th>1</th>\n",
              "      <td>LP001022</td>\n",
              "      <td>Male</td>\n",
              "      <td>Yes</td>\n",
              "      <td>1</td>\n",
              "      <td>Graduate</td>\n",
              "      <td>No</td>\n",
              "      <td>3076</td>\n",
              "      <td>1500</td>\n",
              "      <td>126.0</td>\n",
              "      <td>360.0</td>\n",
              "      <td>1.0</td>\n",
              "      <td>Urban</td>\n",
              "    </tr>\n",
              "    <tr>\n",
              "      <th>2</th>\n",
              "      <td>LP001031</td>\n",
              "      <td>Male</td>\n",
              "      <td>Yes</td>\n",
              "      <td>2</td>\n",
              "      <td>Graduate</td>\n",
              "      <td>No</td>\n",
              "      <td>5000</td>\n",
              "      <td>1800</td>\n",
              "      <td>208.0</td>\n",
              "      <td>360.0</td>\n",
              "      <td>1.0</td>\n",
              "      <td>Urban</td>\n",
              "    </tr>\n",
              "    <tr>\n",
              "      <th>3</th>\n",
              "      <td>LP001035</td>\n",
              "      <td>Male</td>\n",
              "      <td>Yes</td>\n",
              "      <td>2</td>\n",
              "      <td>Graduate</td>\n",
              "      <td>No</td>\n",
              "      <td>2340</td>\n",
              "      <td>2546</td>\n",
              "      <td>100.0</td>\n",
              "      <td>360.0</td>\n",
              "      <td>NaN</td>\n",
              "      <td>Urban</td>\n",
              "    </tr>\n",
              "    <tr>\n",
              "      <th>4</th>\n",
              "      <td>LP001051</td>\n",
              "      <td>Male</td>\n",
              "      <td>No</td>\n",
              "      <td>0</td>\n",
              "      <td>Not Graduate</td>\n",
              "      <td>No</td>\n",
              "      <td>3276</td>\n",
              "      <td>0</td>\n",
              "      <td>78.0</td>\n",
              "      <td>360.0</td>\n",
              "      <td>1.0</td>\n",
              "      <td>Urban</td>\n",
              "    </tr>\n",
              "  </tbody>\n",
              "</table>\n",
              "</div>"
            ],
            "text/plain": [
              "    Loan_ID Gender Married  ... Loan_Amount_Term Credit_History Property_Area\n",
              "0  LP001015   Male     Yes  ...            360.0            1.0         Urban\n",
              "1  LP001022   Male     Yes  ...            360.0            1.0         Urban\n",
              "2  LP001031   Male     Yes  ...            360.0            1.0         Urban\n",
              "3  LP001035   Male     Yes  ...            360.0            NaN         Urban\n",
              "4  LP001051   Male      No  ...            360.0            1.0         Urban\n",
              "\n",
              "[5 rows x 12 columns]"
            ]
          },
          "metadata": {
            "tags": []
          },
          "execution_count": 33
        }
      ]
    },
    {
      "cell_type": "code",
      "metadata": {
        "colab": {
          "base_uri": "https://localhost:8080/"
        },
        "id": "FAlwQaC5IxgG",
        "outputId": "18617e7c-e5f9-441c-d97b-e9785e61dfab"
      },
      "source": [
        "df2.drop('Loan_ID',axis=1,inplace=True)\n",
        "df2.info()"
      ],
      "execution_count": 34,
      "outputs": [
        {
          "output_type": "stream",
          "text": [
            "<class 'pandas.core.frame.DataFrame'>\n",
            "RangeIndex: 367 entries, 0 to 366\n",
            "Data columns (total 11 columns):\n",
            " #   Column             Non-Null Count  Dtype  \n",
            "---  ------             --------------  -----  \n",
            " 0   Gender             356 non-null    object \n",
            " 1   Married            367 non-null    object \n",
            " 2   Dependents         357 non-null    object \n",
            " 3   Education          367 non-null    object \n",
            " 4   Self_Employed      344 non-null    object \n",
            " 5   ApplicantIncome    367 non-null    int64  \n",
            " 6   CoapplicantIncome  367 non-null    int64  \n",
            " 7   LoanAmount         362 non-null    float64\n",
            " 8   Loan_Amount_Term   361 non-null    float64\n",
            " 9   Credit_History     338 non-null    float64\n",
            " 10  Property_Area      367 non-null    object \n",
            "dtypes: float64(3), int64(2), object(6)\n",
            "memory usage: 31.7+ KB\n"
          ],
          "name": "stdout"
        }
      ]
    },
    {
      "cell_type": "code",
      "metadata": {
        "colab": {
          "base_uri": "https://localhost:8080/"
        },
        "id": "7afoQH1bIxgH",
        "outputId": "4065901c-0cb7-4a8e-a63a-dbc1191d75da"
      },
      "source": [
        "missing_column=[feature for feature in df2.columns if df2[feature].isnull().sum()>1]\n",
        "\n",
        "for feature in missing_column:\n",
        "    print(feature, np.round((df2[feature].isnull().sum())/len(df2)*100),'% Missing Value')"
      ],
      "execution_count": 35,
      "outputs": [
        {
          "output_type": "stream",
          "text": [
            "Gender 3.0 % Missing Value\n",
            "Dependents 3.0 % Missing Value\n",
            "Self_Employed 6.0 % Missing Value\n",
            "LoanAmount 1.0 % Missing Value\n",
            "Loan_Amount_Term 2.0 % Missing Value\n",
            "Credit_History 8.0 % Missing Value\n"
          ],
          "name": "stdout"
        }
      ]
    },
    {
      "cell_type": "code",
      "metadata": {
        "colab": {
          "base_uri": "https://localhost:8080/",
          "height": 241
        },
        "id": "QLJRli1eIxgH",
        "outputId": "978d73b6-0c8c-46c1-a645-b6a8b41abfb5"
      },
      "source": [
        "dummies=pd.get_dummies(df2,drop_first=True)\n",
        "dummies.head()"
      ],
      "execution_count": 36,
      "outputs": [
        {
          "output_type": "execute_result",
          "data": {
            "text/html": [
              "<div>\n",
              "<style scoped>\n",
              "    .dataframe tbody tr th:only-of-type {\n",
              "        vertical-align: middle;\n",
              "    }\n",
              "\n",
              "    .dataframe tbody tr th {\n",
              "        vertical-align: top;\n",
              "    }\n",
              "\n",
              "    .dataframe thead th {\n",
              "        text-align: right;\n",
              "    }\n",
              "</style>\n",
              "<table border=\"1\" class=\"dataframe\">\n",
              "  <thead>\n",
              "    <tr style=\"text-align: right;\">\n",
              "      <th></th>\n",
              "      <th>ApplicantIncome</th>\n",
              "      <th>CoapplicantIncome</th>\n",
              "      <th>LoanAmount</th>\n",
              "      <th>Loan_Amount_Term</th>\n",
              "      <th>Credit_History</th>\n",
              "      <th>Gender_Male</th>\n",
              "      <th>Married_Yes</th>\n",
              "      <th>Dependents_1</th>\n",
              "      <th>Dependents_2</th>\n",
              "      <th>Dependents_3+</th>\n",
              "      <th>Education_Not Graduate</th>\n",
              "      <th>Self_Employed_Yes</th>\n",
              "      <th>Property_Area_Semiurban</th>\n",
              "      <th>Property_Area_Urban</th>\n",
              "    </tr>\n",
              "  </thead>\n",
              "  <tbody>\n",
              "    <tr>\n",
              "      <th>0</th>\n",
              "      <td>5720</td>\n",
              "      <td>0</td>\n",
              "      <td>110.0</td>\n",
              "      <td>360.0</td>\n",
              "      <td>1.0</td>\n",
              "      <td>1</td>\n",
              "      <td>1</td>\n",
              "      <td>0</td>\n",
              "      <td>0</td>\n",
              "      <td>0</td>\n",
              "      <td>0</td>\n",
              "      <td>0</td>\n",
              "      <td>0</td>\n",
              "      <td>1</td>\n",
              "    </tr>\n",
              "    <tr>\n",
              "      <th>1</th>\n",
              "      <td>3076</td>\n",
              "      <td>1500</td>\n",
              "      <td>126.0</td>\n",
              "      <td>360.0</td>\n",
              "      <td>1.0</td>\n",
              "      <td>1</td>\n",
              "      <td>1</td>\n",
              "      <td>1</td>\n",
              "      <td>0</td>\n",
              "      <td>0</td>\n",
              "      <td>0</td>\n",
              "      <td>0</td>\n",
              "      <td>0</td>\n",
              "      <td>1</td>\n",
              "    </tr>\n",
              "    <tr>\n",
              "      <th>2</th>\n",
              "      <td>5000</td>\n",
              "      <td>1800</td>\n",
              "      <td>208.0</td>\n",
              "      <td>360.0</td>\n",
              "      <td>1.0</td>\n",
              "      <td>1</td>\n",
              "      <td>1</td>\n",
              "      <td>0</td>\n",
              "      <td>1</td>\n",
              "      <td>0</td>\n",
              "      <td>0</td>\n",
              "      <td>0</td>\n",
              "      <td>0</td>\n",
              "      <td>1</td>\n",
              "    </tr>\n",
              "    <tr>\n",
              "      <th>3</th>\n",
              "      <td>2340</td>\n",
              "      <td>2546</td>\n",
              "      <td>100.0</td>\n",
              "      <td>360.0</td>\n",
              "      <td>NaN</td>\n",
              "      <td>1</td>\n",
              "      <td>1</td>\n",
              "      <td>0</td>\n",
              "      <td>1</td>\n",
              "      <td>0</td>\n",
              "      <td>0</td>\n",
              "      <td>0</td>\n",
              "      <td>0</td>\n",
              "      <td>1</td>\n",
              "    </tr>\n",
              "    <tr>\n",
              "      <th>4</th>\n",
              "      <td>3276</td>\n",
              "      <td>0</td>\n",
              "      <td>78.0</td>\n",
              "      <td>360.0</td>\n",
              "      <td>1.0</td>\n",
              "      <td>1</td>\n",
              "      <td>0</td>\n",
              "      <td>0</td>\n",
              "      <td>0</td>\n",
              "      <td>0</td>\n",
              "      <td>1</td>\n",
              "      <td>0</td>\n",
              "      <td>0</td>\n",
              "      <td>1</td>\n",
              "    </tr>\n",
              "  </tbody>\n",
              "</table>\n",
              "</div>"
            ],
            "text/plain": [
              "   ApplicantIncome  ...  Property_Area_Urban\n",
              "0             5720  ...                    1\n",
              "1             3076  ...                    1\n",
              "2             5000  ...                    1\n",
              "3             2340  ...                    1\n",
              "4             3276  ...                    1\n",
              "\n",
              "[5 rows x 14 columns]"
            ]
          },
          "metadata": {
            "tags": []
          },
          "execution_count": 36
        }
      ]
    },
    {
      "cell_type": "code",
      "metadata": {
        "colab": {
          "base_uri": "https://localhost:8080/",
          "height": 241
        },
        "id": "-vvUeCFwIxgH",
        "outputId": "9bd7e586-5d89-4e61-829b-12bb26dbe2ac"
      },
      "source": [
        "from sklearn.impute import SimpleImputer\n",
        "SimImp = SimpleImputer()\n",
        "test= pd.DataFrame(SimImp.fit_transform(dummies), columns=dummies.columns)\n",
        "test.head()"
      ],
      "execution_count": 37,
      "outputs": [
        {
          "output_type": "execute_result",
          "data": {
            "text/html": [
              "<div>\n",
              "<style scoped>\n",
              "    .dataframe tbody tr th:only-of-type {\n",
              "        vertical-align: middle;\n",
              "    }\n",
              "\n",
              "    .dataframe tbody tr th {\n",
              "        vertical-align: top;\n",
              "    }\n",
              "\n",
              "    .dataframe thead th {\n",
              "        text-align: right;\n",
              "    }\n",
              "</style>\n",
              "<table border=\"1\" class=\"dataframe\">\n",
              "  <thead>\n",
              "    <tr style=\"text-align: right;\">\n",
              "      <th></th>\n",
              "      <th>ApplicantIncome</th>\n",
              "      <th>CoapplicantIncome</th>\n",
              "      <th>LoanAmount</th>\n",
              "      <th>Loan_Amount_Term</th>\n",
              "      <th>Credit_History</th>\n",
              "      <th>Gender_Male</th>\n",
              "      <th>Married_Yes</th>\n",
              "      <th>Dependents_1</th>\n",
              "      <th>Dependents_2</th>\n",
              "      <th>Dependents_3+</th>\n",
              "      <th>Education_Not Graduate</th>\n",
              "      <th>Self_Employed_Yes</th>\n",
              "      <th>Property_Area_Semiurban</th>\n",
              "      <th>Property_Area_Urban</th>\n",
              "    </tr>\n",
              "  </thead>\n",
              "  <tbody>\n",
              "    <tr>\n",
              "      <th>0</th>\n",
              "      <td>5720.0</td>\n",
              "      <td>0.0</td>\n",
              "      <td>110.0</td>\n",
              "      <td>360.0</td>\n",
              "      <td>1.000000</td>\n",
              "      <td>1.0</td>\n",
              "      <td>1.0</td>\n",
              "      <td>0.0</td>\n",
              "      <td>0.0</td>\n",
              "      <td>0.0</td>\n",
              "      <td>0.0</td>\n",
              "      <td>0.0</td>\n",
              "      <td>0.0</td>\n",
              "      <td>1.0</td>\n",
              "    </tr>\n",
              "    <tr>\n",
              "      <th>1</th>\n",
              "      <td>3076.0</td>\n",
              "      <td>1500.0</td>\n",
              "      <td>126.0</td>\n",
              "      <td>360.0</td>\n",
              "      <td>1.000000</td>\n",
              "      <td>1.0</td>\n",
              "      <td>1.0</td>\n",
              "      <td>1.0</td>\n",
              "      <td>0.0</td>\n",
              "      <td>0.0</td>\n",
              "      <td>0.0</td>\n",
              "      <td>0.0</td>\n",
              "      <td>0.0</td>\n",
              "      <td>1.0</td>\n",
              "    </tr>\n",
              "    <tr>\n",
              "      <th>2</th>\n",
              "      <td>5000.0</td>\n",
              "      <td>1800.0</td>\n",
              "      <td>208.0</td>\n",
              "      <td>360.0</td>\n",
              "      <td>1.000000</td>\n",
              "      <td>1.0</td>\n",
              "      <td>1.0</td>\n",
              "      <td>0.0</td>\n",
              "      <td>1.0</td>\n",
              "      <td>0.0</td>\n",
              "      <td>0.0</td>\n",
              "      <td>0.0</td>\n",
              "      <td>0.0</td>\n",
              "      <td>1.0</td>\n",
              "    </tr>\n",
              "    <tr>\n",
              "      <th>3</th>\n",
              "      <td>2340.0</td>\n",
              "      <td>2546.0</td>\n",
              "      <td>100.0</td>\n",
              "      <td>360.0</td>\n",
              "      <td>0.825444</td>\n",
              "      <td>1.0</td>\n",
              "      <td>1.0</td>\n",
              "      <td>0.0</td>\n",
              "      <td>1.0</td>\n",
              "      <td>0.0</td>\n",
              "      <td>0.0</td>\n",
              "      <td>0.0</td>\n",
              "      <td>0.0</td>\n",
              "      <td>1.0</td>\n",
              "    </tr>\n",
              "    <tr>\n",
              "      <th>4</th>\n",
              "      <td>3276.0</td>\n",
              "      <td>0.0</td>\n",
              "      <td>78.0</td>\n",
              "      <td>360.0</td>\n",
              "      <td>1.000000</td>\n",
              "      <td>1.0</td>\n",
              "      <td>0.0</td>\n",
              "      <td>0.0</td>\n",
              "      <td>0.0</td>\n",
              "      <td>0.0</td>\n",
              "      <td>1.0</td>\n",
              "      <td>0.0</td>\n",
              "      <td>0.0</td>\n",
              "      <td>1.0</td>\n",
              "    </tr>\n",
              "  </tbody>\n",
              "</table>\n",
              "</div>"
            ],
            "text/plain": [
              "   ApplicantIncome  ...  Property_Area_Urban\n",
              "0           5720.0  ...                  1.0\n",
              "1           3076.0  ...                  1.0\n",
              "2           5000.0  ...                  1.0\n",
              "3           2340.0  ...                  1.0\n",
              "4           3276.0  ...                  1.0\n",
              "\n",
              "[5 rows x 14 columns]"
            ]
          },
          "metadata": {
            "tags": []
          },
          "execution_count": 37
        }
      ]
    },
    {
      "cell_type": "code",
      "metadata": {
        "colab": {
          "base_uri": "https://localhost:8080/"
        },
        "id": "FUv9O49eIxgH",
        "outputId": "ce0b2f67-5d16-4425-9da3-7d794c688ec7"
      },
      "source": [
        "test.isnull().any()"
      ],
      "execution_count": 38,
      "outputs": [
        {
          "output_type": "execute_result",
          "data": {
            "text/plain": [
              "ApplicantIncome            False\n",
              "CoapplicantIncome          False\n",
              "LoanAmount                 False\n",
              "Loan_Amount_Term           False\n",
              "Credit_History             False\n",
              "Gender_Male                False\n",
              "Married_Yes                False\n",
              "Dependents_1               False\n",
              "Dependents_2               False\n",
              "Dependents_3+              False\n",
              "Education_Not Graduate     False\n",
              "Self_Employed_Yes          False\n",
              "Property_Area_Semiurban    False\n",
              "Property_Area_Urban        False\n",
              "dtype: bool"
            ]
          },
          "metadata": {
            "tags": []
          },
          "execution_count": 38
        }
      ]
    },
    {
      "cell_type": "code",
      "metadata": {
        "id": "4ATKKPjHIxgI"
      },
      "source": [
        "# we'll create a binary column here for loan amount term and check the data with a count plot\n",
        "test['Loan_Term_360']=np.where(test.Loan_Amount_Term == 360,1,0)"
      ],
      "execution_count": 39,
      "outputs": []
    },
    {
      "cell_type": "code",
      "metadata": {
        "colab": {
          "base_uri": "https://localhost:8080/",
          "height": 241
        },
        "id": "1zWAet3XIxgI",
        "outputId": "e1e011ca-3a60-427f-d102-39e9559a9f06"
      },
      "source": [
        "test.drop('Loan_Amount_Term', inplace= True, axis= 1)\n",
        "test.head()"
      ],
      "execution_count": 40,
      "outputs": [
        {
          "output_type": "execute_result",
          "data": {
            "text/html": [
              "<div>\n",
              "<style scoped>\n",
              "    .dataframe tbody tr th:only-of-type {\n",
              "        vertical-align: middle;\n",
              "    }\n",
              "\n",
              "    .dataframe tbody tr th {\n",
              "        vertical-align: top;\n",
              "    }\n",
              "\n",
              "    .dataframe thead th {\n",
              "        text-align: right;\n",
              "    }\n",
              "</style>\n",
              "<table border=\"1\" class=\"dataframe\">\n",
              "  <thead>\n",
              "    <tr style=\"text-align: right;\">\n",
              "      <th></th>\n",
              "      <th>ApplicantIncome</th>\n",
              "      <th>CoapplicantIncome</th>\n",
              "      <th>LoanAmount</th>\n",
              "      <th>Credit_History</th>\n",
              "      <th>Gender_Male</th>\n",
              "      <th>Married_Yes</th>\n",
              "      <th>Dependents_1</th>\n",
              "      <th>Dependents_2</th>\n",
              "      <th>Dependents_3+</th>\n",
              "      <th>Education_Not Graduate</th>\n",
              "      <th>Self_Employed_Yes</th>\n",
              "      <th>Property_Area_Semiurban</th>\n",
              "      <th>Property_Area_Urban</th>\n",
              "      <th>Loan_Term_360</th>\n",
              "    </tr>\n",
              "  </thead>\n",
              "  <tbody>\n",
              "    <tr>\n",
              "      <th>0</th>\n",
              "      <td>5720.0</td>\n",
              "      <td>0.0</td>\n",
              "      <td>110.0</td>\n",
              "      <td>1.000000</td>\n",
              "      <td>1.0</td>\n",
              "      <td>1.0</td>\n",
              "      <td>0.0</td>\n",
              "      <td>0.0</td>\n",
              "      <td>0.0</td>\n",
              "      <td>0.0</td>\n",
              "      <td>0.0</td>\n",
              "      <td>0.0</td>\n",
              "      <td>1.0</td>\n",
              "      <td>1</td>\n",
              "    </tr>\n",
              "    <tr>\n",
              "      <th>1</th>\n",
              "      <td>3076.0</td>\n",
              "      <td>1500.0</td>\n",
              "      <td>126.0</td>\n",
              "      <td>1.000000</td>\n",
              "      <td>1.0</td>\n",
              "      <td>1.0</td>\n",
              "      <td>1.0</td>\n",
              "      <td>0.0</td>\n",
              "      <td>0.0</td>\n",
              "      <td>0.0</td>\n",
              "      <td>0.0</td>\n",
              "      <td>0.0</td>\n",
              "      <td>1.0</td>\n",
              "      <td>1</td>\n",
              "    </tr>\n",
              "    <tr>\n",
              "      <th>2</th>\n",
              "      <td>5000.0</td>\n",
              "      <td>1800.0</td>\n",
              "      <td>208.0</td>\n",
              "      <td>1.000000</td>\n",
              "      <td>1.0</td>\n",
              "      <td>1.0</td>\n",
              "      <td>0.0</td>\n",
              "      <td>1.0</td>\n",
              "      <td>0.0</td>\n",
              "      <td>0.0</td>\n",
              "      <td>0.0</td>\n",
              "      <td>0.0</td>\n",
              "      <td>1.0</td>\n",
              "      <td>1</td>\n",
              "    </tr>\n",
              "    <tr>\n",
              "      <th>3</th>\n",
              "      <td>2340.0</td>\n",
              "      <td>2546.0</td>\n",
              "      <td>100.0</td>\n",
              "      <td>0.825444</td>\n",
              "      <td>1.0</td>\n",
              "      <td>1.0</td>\n",
              "      <td>0.0</td>\n",
              "      <td>1.0</td>\n",
              "      <td>0.0</td>\n",
              "      <td>0.0</td>\n",
              "      <td>0.0</td>\n",
              "      <td>0.0</td>\n",
              "      <td>1.0</td>\n",
              "      <td>1</td>\n",
              "    </tr>\n",
              "    <tr>\n",
              "      <th>4</th>\n",
              "      <td>3276.0</td>\n",
              "      <td>0.0</td>\n",
              "      <td>78.0</td>\n",
              "      <td>1.000000</td>\n",
              "      <td>1.0</td>\n",
              "      <td>0.0</td>\n",
              "      <td>0.0</td>\n",
              "      <td>0.0</td>\n",
              "      <td>0.0</td>\n",
              "      <td>1.0</td>\n",
              "      <td>0.0</td>\n",
              "      <td>0.0</td>\n",
              "      <td>1.0</td>\n",
              "      <td>1</td>\n",
              "    </tr>\n",
              "  </tbody>\n",
              "</table>\n",
              "</div>"
            ],
            "text/plain": [
              "   ApplicantIncome  CoapplicantIncome  ...  Property_Area_Urban  Loan_Term_360\n",
              "0           5720.0                0.0  ...                  1.0              1\n",
              "1           3076.0             1500.0  ...                  1.0              1\n",
              "2           5000.0             1800.0  ...                  1.0              1\n",
              "3           2340.0             2546.0  ...                  1.0              1\n",
              "4           3276.0                0.0  ...                  1.0              1\n",
              "\n",
              "[5 rows x 14 columns]"
            ]
          },
          "metadata": {
            "tags": []
          },
          "execution_count": 40
        }
      ]
    },
    {
      "cell_type": "code",
      "metadata": {
        "colab": {
          "base_uri": "https://localhost:8080/"
        },
        "id": "vl-fx2KaIxgI",
        "outputId": "e539dee8-cf4a-4f3e-e3b0-0a8e3cee690b"
      },
      "source": [
        "test.shape"
      ],
      "execution_count": 41,
      "outputs": [
        {
          "output_type": "execute_result",
          "data": {
            "text/plain": [
              "(367, 14)"
            ]
          },
          "metadata": {
            "tags": []
          },
          "execution_count": 41
        }
      ]
    },
    {
      "cell_type": "code",
      "metadata": {
        "colab": {
          "base_uri": "https://localhost:8080/"
        },
        "id": "7onNF8AHIxgI",
        "outputId": "50ce370b-a379-443e-c010-063055968644"
      },
      "source": [
        "Loan_Status=LR.predict(test)\n",
        "Loan_Status"
      ],
      "execution_count": 42,
      "outputs": [
        {
          "output_type": "execute_result",
          "data": {
            "text/plain": [
              "array([1., 1., 1., 1., 1., 1., 1., 0., 1., 1., 1., 1., 1., 0., 1., 1., 1.,\n",
              "       1., 1., 1., 1., 1., 1., 1., 1., 0., 1., 1., 1., 1., 1., 1., 1., 1.,\n",
              "       1., 0., 1., 1., 1., 1., 1., 1., 1., 1., 1., 1., 1., 1., 1., 1., 1.,\n",
              "       1., 1., 1., 1., 0., 1., 1., 0., 1., 1., 1., 1., 0., 1., 1., 0., 0.,\n",
              "       1., 0., 1., 1., 1., 1., 1., 1., 1., 1., 1., 1., 0., 1., 0., 1., 0.,\n",
              "       1., 1., 1., 1., 1., 1., 1., 1., 1., 0., 1., 1., 1., 1., 1., 1., 0.,\n",
              "       1., 1., 1., 1., 0., 1., 1., 1., 1., 1., 1., 1., 1., 1., 1., 0., 0.,\n",
              "       0., 1., 1., 1., 0., 0., 1., 0., 1., 1., 1., 1., 1., 1., 1., 1., 1.,\n",
              "       1., 1., 1., 1., 0., 1., 0., 1., 1., 1., 1., 0., 1., 1., 1., 1., 1.,\n",
              "       0., 1., 1., 1., 1., 1., 1., 1., 0., 1., 1., 1., 0., 0., 1., 0., 1.,\n",
              "       1., 1., 1., 0., 0., 1., 1., 1., 1., 1., 1., 1., 1., 1., 1., 1., 1.,\n",
              "       1., 1., 1., 1., 1., 0., 0., 1., 1., 0., 1., 0., 1., 1., 1., 1., 1.,\n",
              "       1., 1., 1., 1., 1., 1., 1., 0., 1., 1., 1., 1., 1., 1., 1., 1., 1.,\n",
              "       1., 1., 1., 0., 1., 1., 1., 1., 0., 1., 1., 1., 1., 1., 0., 0., 1.,\n",
              "       1., 1., 1., 0., 1., 0., 1., 0., 1., 1., 1., 1., 0., 1., 1., 1., 1.,\n",
              "       0., 1., 1., 1., 1., 1., 1., 1., 1., 1., 1., 0., 1., 0., 1., 1., 1.,\n",
              "       1., 0., 0., 1., 1., 1., 0., 1., 1., 1., 1., 1., 1., 1., 1., 1., 1.,\n",
              "       1., 1., 1., 1., 0., 1., 1., 1., 1., 1., 1., 1., 0., 1., 1., 1., 1.,\n",
              "       1., 1., 1., 1., 1., 0., 1., 1., 1., 1., 1., 0., 1., 1., 1., 1., 1.,\n",
              "       1., 1., 0., 1., 1., 1., 1., 1., 1., 1., 1., 1., 1., 1., 1., 1., 0.,\n",
              "       1., 1., 1., 1., 1., 1., 0., 1., 1., 1., 1., 0., 1., 1., 0., 1., 1.,\n",
              "       1., 1., 1., 1., 1., 1., 1., 1., 1., 1.])"
            ]
          },
          "metadata": {
            "tags": []
          },
          "execution_count": 42
        }
      ]
    },
    {
      "cell_type": "code",
      "metadata": {
        "colab": {
          "base_uri": "https://localhost:8080/",
          "height": 241
        },
        "id": "Grj9UO6CIxgI",
        "outputId": "b5687a2d-a2f2-4aef-c574-5a98bc997946"
      },
      "source": [
        "test['Loan_Status']=Loan_Status\n",
        "test.head()"
      ],
      "execution_count": 43,
      "outputs": [
        {
          "output_type": "execute_result",
          "data": {
            "text/html": [
              "<div>\n",
              "<style scoped>\n",
              "    .dataframe tbody tr th:only-of-type {\n",
              "        vertical-align: middle;\n",
              "    }\n",
              "\n",
              "    .dataframe tbody tr th {\n",
              "        vertical-align: top;\n",
              "    }\n",
              "\n",
              "    .dataframe thead th {\n",
              "        text-align: right;\n",
              "    }\n",
              "</style>\n",
              "<table border=\"1\" class=\"dataframe\">\n",
              "  <thead>\n",
              "    <tr style=\"text-align: right;\">\n",
              "      <th></th>\n",
              "      <th>ApplicantIncome</th>\n",
              "      <th>CoapplicantIncome</th>\n",
              "      <th>LoanAmount</th>\n",
              "      <th>Credit_History</th>\n",
              "      <th>Gender_Male</th>\n",
              "      <th>Married_Yes</th>\n",
              "      <th>Dependents_1</th>\n",
              "      <th>Dependents_2</th>\n",
              "      <th>Dependents_3+</th>\n",
              "      <th>Education_Not Graduate</th>\n",
              "      <th>Self_Employed_Yes</th>\n",
              "      <th>Property_Area_Semiurban</th>\n",
              "      <th>Property_Area_Urban</th>\n",
              "      <th>Loan_Term_360</th>\n",
              "      <th>Loan_Status</th>\n",
              "    </tr>\n",
              "  </thead>\n",
              "  <tbody>\n",
              "    <tr>\n",
              "      <th>0</th>\n",
              "      <td>5720.0</td>\n",
              "      <td>0.0</td>\n",
              "      <td>110.0</td>\n",
              "      <td>1.000000</td>\n",
              "      <td>1.0</td>\n",
              "      <td>1.0</td>\n",
              "      <td>0.0</td>\n",
              "      <td>0.0</td>\n",
              "      <td>0.0</td>\n",
              "      <td>0.0</td>\n",
              "      <td>0.0</td>\n",
              "      <td>0.0</td>\n",
              "      <td>1.0</td>\n",
              "      <td>1</td>\n",
              "      <td>1.0</td>\n",
              "    </tr>\n",
              "    <tr>\n",
              "      <th>1</th>\n",
              "      <td>3076.0</td>\n",
              "      <td>1500.0</td>\n",
              "      <td>126.0</td>\n",
              "      <td>1.000000</td>\n",
              "      <td>1.0</td>\n",
              "      <td>1.0</td>\n",
              "      <td>1.0</td>\n",
              "      <td>0.0</td>\n",
              "      <td>0.0</td>\n",
              "      <td>0.0</td>\n",
              "      <td>0.0</td>\n",
              "      <td>0.0</td>\n",
              "      <td>1.0</td>\n",
              "      <td>1</td>\n",
              "      <td>1.0</td>\n",
              "    </tr>\n",
              "    <tr>\n",
              "      <th>2</th>\n",
              "      <td>5000.0</td>\n",
              "      <td>1800.0</td>\n",
              "      <td>208.0</td>\n",
              "      <td>1.000000</td>\n",
              "      <td>1.0</td>\n",
              "      <td>1.0</td>\n",
              "      <td>0.0</td>\n",
              "      <td>1.0</td>\n",
              "      <td>0.0</td>\n",
              "      <td>0.0</td>\n",
              "      <td>0.0</td>\n",
              "      <td>0.0</td>\n",
              "      <td>1.0</td>\n",
              "      <td>1</td>\n",
              "      <td>1.0</td>\n",
              "    </tr>\n",
              "    <tr>\n",
              "      <th>3</th>\n",
              "      <td>2340.0</td>\n",
              "      <td>2546.0</td>\n",
              "      <td>100.0</td>\n",
              "      <td>0.825444</td>\n",
              "      <td>1.0</td>\n",
              "      <td>1.0</td>\n",
              "      <td>0.0</td>\n",
              "      <td>1.0</td>\n",
              "      <td>0.0</td>\n",
              "      <td>0.0</td>\n",
              "      <td>0.0</td>\n",
              "      <td>0.0</td>\n",
              "      <td>1.0</td>\n",
              "      <td>1</td>\n",
              "      <td>1.0</td>\n",
              "    </tr>\n",
              "    <tr>\n",
              "      <th>4</th>\n",
              "      <td>3276.0</td>\n",
              "      <td>0.0</td>\n",
              "      <td>78.0</td>\n",
              "      <td>1.000000</td>\n",
              "      <td>1.0</td>\n",
              "      <td>0.0</td>\n",
              "      <td>0.0</td>\n",
              "      <td>0.0</td>\n",
              "      <td>0.0</td>\n",
              "      <td>1.0</td>\n",
              "      <td>0.0</td>\n",
              "      <td>0.0</td>\n",
              "      <td>1.0</td>\n",
              "      <td>1</td>\n",
              "      <td>1.0</td>\n",
              "    </tr>\n",
              "  </tbody>\n",
              "</table>\n",
              "</div>"
            ],
            "text/plain": [
              "   ApplicantIncome  CoapplicantIncome  ...  Loan_Term_360  Loan_Status\n",
              "0           5720.0                0.0  ...              1          1.0\n",
              "1           3076.0             1500.0  ...              1          1.0\n",
              "2           5000.0             1800.0  ...              1          1.0\n",
              "3           2340.0             2546.0  ...              1          1.0\n",
              "4           3276.0                0.0  ...              1          1.0\n",
              "\n",
              "[5 rows x 15 columns]"
            ]
          },
          "metadata": {
            "tags": []
          },
          "execution_count": 43
        }
      ]
    },
    {
      "cell_type": "code",
      "metadata": {
        "colab": {
          "base_uri": "https://localhost:8080/",
          "height": 204
        },
        "id": "66r6TtGbIxgJ",
        "outputId": "07c5015b-b6db-480f-d618-c3442d5d3c74"
      },
      "source": [
        "submissive=pd.read_csv('/content/mydrive/MyDrive/Colab Notebooks/Loan Prediction/Loan Prediction Dataset/sample_submission.csv')\n",
        "submissive.head()"
      ],
      "execution_count": 44,
      "outputs": [
        {
          "output_type": "execute_result",
          "data": {
            "text/html": [
              "<div>\n",
              "<style scoped>\n",
              "    .dataframe tbody tr th:only-of-type {\n",
              "        vertical-align: middle;\n",
              "    }\n",
              "\n",
              "    .dataframe tbody tr th {\n",
              "        vertical-align: top;\n",
              "    }\n",
              "\n",
              "    .dataframe thead th {\n",
              "        text-align: right;\n",
              "    }\n",
              "</style>\n",
              "<table border=\"1\" class=\"dataframe\">\n",
              "  <thead>\n",
              "    <tr style=\"text-align: right;\">\n",
              "      <th></th>\n",
              "      <th>Loan_ID</th>\n",
              "    </tr>\n",
              "  </thead>\n",
              "  <tbody>\n",
              "    <tr>\n",
              "      <th>0</th>\n",
              "      <td>LP001015</td>\n",
              "    </tr>\n",
              "    <tr>\n",
              "      <th>1</th>\n",
              "      <td>LP001022</td>\n",
              "    </tr>\n",
              "    <tr>\n",
              "      <th>2</th>\n",
              "      <td>LP001031</td>\n",
              "    </tr>\n",
              "    <tr>\n",
              "      <th>3</th>\n",
              "      <td>LP001035</td>\n",
              "    </tr>\n",
              "    <tr>\n",
              "      <th>4</th>\n",
              "      <td>LP001051</td>\n",
              "    </tr>\n",
              "  </tbody>\n",
              "</table>\n",
              "</div>"
            ],
            "text/plain": [
              "    Loan_ID\n",
              "0  LP001015\n",
              "1  LP001022\n",
              "2  LP001031\n",
              "3  LP001035\n",
              "4  LP001051"
            ]
          },
          "metadata": {
            "tags": []
          },
          "execution_count": 44
        }
      ]
    },
    {
      "cell_type": "code",
      "metadata": {
        "id": "dtA7iRoxIxgJ"
      },
      "source": [
        "submission = pd.DataFrame()\n",
        "submission['Loan_ID'] =submissive['Loan_ID']\n",
        "submission['Loan_Status'] = test['Loan_Status']\n",
        "\n",
        "# submission.to_csv('sub.csv', index=False)"
      ],
      "execution_count": 45,
      "outputs": []
    },
    {
      "cell_type": "code",
      "metadata": {
        "id": "lxKHBnwpIxgJ"
      },
      "source": [
        ""
      ],
      "execution_count": 45,
      "outputs": []
    }
  ]
}